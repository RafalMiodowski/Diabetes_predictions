{
  "nbformat": 4,
  "nbformat_minor": 0,
  "metadata": {
    "colab": {
      "provenance": []
    },
    "kernelspec": {
      "name": "python3",
      "display_name": "Python 3"
    },
    "language_info": {
      "name": "python"
    }
  },
  "cells": [
    {
      "cell_type": "code",
      "execution_count": 1,
      "metadata": {
        "colab": {
          "base_uri": "https://localhost:8080/"
        },
        "id": "JGw802bZCeJn",
        "outputId": "a7cd5694-2754-44ac-a60e-dd6d65e37419"
      },
      "outputs": [
        {
          "output_type": "stream",
          "name": "stdout",
          "text": [
            "Dataset URL: https://www.kaggle.com/datasets/uciml/pima-indians-diabetes-database\n",
            "License(s): CC0-1.0\n",
            "Downloading pima-indians-diabetes-database.zip to /content\n",
            "  0% 0.00/8.91k [00:00<?, ?B/s]\n",
            "100% 8.91k/8.91k [00:00<00:00, 8.40MB/s]\n",
            "Archive:  pima-indians-diabetes-database.zip\n",
            "  inflating: diabetes.csv            \n"
          ]
        }
      ],
      "source": [
        "!kaggle datasets download -d uciml/pima-indians-diabetes-database\n",
        "!unzip pima-indians-diabetes-database.zip\n",
        "import pandas as pd\n",
        "from matplotlib import pyplot as plt\n",
        "df = pd.read_csv(\"diabetes.csv\")\n",
        "mask = df['BloodPressure'] != 0  # we remove the missing data for diastolic pressure\n",
        "df = df[mask]"
      ]
    },
    {
      "cell_type": "code",
      "source": [
        "df.info()"
      ],
      "metadata": {
        "colab": {
          "base_uri": "https://localhost:8080/"
        },
        "id": "uowr_ZElr6Wh",
        "outputId": "25ae95bf-8ac6-4be4-ac72-aca117e80751"
      },
      "execution_count": 2,
      "outputs": [
        {
          "output_type": "stream",
          "name": "stdout",
          "text": [
            "<class 'pandas.core.frame.DataFrame'>\n",
            "Index: 733 entries, 0 to 767\n",
            "Data columns (total 9 columns):\n",
            " #   Column                    Non-Null Count  Dtype  \n",
            "---  ------                    --------------  -----  \n",
            " 0   Pregnancies               733 non-null    int64  \n",
            " 1   Glucose                   733 non-null    int64  \n",
            " 2   BloodPressure             733 non-null    int64  \n",
            " 3   SkinThickness             733 non-null    int64  \n",
            " 4   Insulin                   733 non-null    int64  \n",
            " 5   BMI                       733 non-null    float64\n",
            " 6   DiabetesPedigreeFunction  733 non-null    float64\n",
            " 7   Age                       733 non-null    int64  \n",
            " 8   Outcome                   733 non-null    int64  \n",
            "dtypes: float64(2), int64(7)\n",
            "memory usage: 57.3 KB\n"
          ]
        }
      ]
    },
    {
      "cell_type": "code",
      "source": [
        "from sklearn import neighbors"
      ],
      "metadata": {
        "id": "LHNQj9WgCpdB"
      },
      "execution_count": 3,
      "outputs": []
    },
    {
      "cell_type": "code",
      "source": [
        "df.head()"
      ],
      "metadata": {
        "colab": {
          "base_uri": "https://localhost:8080/",
          "height": 206
        },
        "id": "bV2WbfGfC5KP",
        "outputId": "99e5aa31-cc32-4f06-e81b-f0603ba26d64"
      },
      "execution_count": 54,
      "outputs": [
        {
          "output_type": "execute_result",
          "data": {
            "text/plain": [
              "   Pregnancies  Glucose  BloodPressure  SkinThickness     Insulin   BMI  \\\n",
              "0            6      148             72             35  155.548223  33.6   \n",
              "1            1       85             66             29  155.548223  26.6   \n",
              "2            8      183             64              0  155.548223  23.3   \n",
              "3            1       89             66             23   94.000000  28.1   \n",
              "4            0      137             40             35  168.000000  43.1   \n",
              "\n",
              "   DiabetesPedigreeFunction  Age  Outcome  \n",
              "0                     0.627   50        1  \n",
              "1                     0.351   31        0  \n",
              "2                     0.672   32        1  \n",
              "3                     0.167   21        0  \n",
              "4                     2.288   33        1  "
            ],
            "text/html": [
              "\n",
              "  <div id=\"df-518747b1-125b-4071-8bbc-348521178ea3\" class=\"colab-df-container\">\n",
              "    <div>\n",
              "<style scoped>\n",
              "    .dataframe tbody tr th:only-of-type {\n",
              "        vertical-align: middle;\n",
              "    }\n",
              "\n",
              "    .dataframe tbody tr th {\n",
              "        vertical-align: top;\n",
              "    }\n",
              "\n",
              "    .dataframe thead th {\n",
              "        text-align: right;\n",
              "    }\n",
              "</style>\n",
              "<table border=\"1\" class=\"dataframe\">\n",
              "  <thead>\n",
              "    <tr style=\"text-align: right;\">\n",
              "      <th></th>\n",
              "      <th>Pregnancies</th>\n",
              "      <th>Glucose</th>\n",
              "      <th>BloodPressure</th>\n",
              "      <th>SkinThickness</th>\n",
              "      <th>Insulin</th>\n",
              "      <th>BMI</th>\n",
              "      <th>DiabetesPedigreeFunction</th>\n",
              "      <th>Age</th>\n",
              "      <th>Outcome</th>\n",
              "    </tr>\n",
              "  </thead>\n",
              "  <tbody>\n",
              "    <tr>\n",
              "      <th>0</th>\n",
              "      <td>6</td>\n",
              "      <td>148</td>\n",
              "      <td>72</td>\n",
              "      <td>35</td>\n",
              "      <td>155.548223</td>\n",
              "      <td>33.6</td>\n",
              "      <td>0.627</td>\n",
              "      <td>50</td>\n",
              "      <td>1</td>\n",
              "    </tr>\n",
              "    <tr>\n",
              "      <th>1</th>\n",
              "      <td>1</td>\n",
              "      <td>85</td>\n",
              "      <td>66</td>\n",
              "      <td>29</td>\n",
              "      <td>155.548223</td>\n",
              "      <td>26.6</td>\n",
              "      <td>0.351</td>\n",
              "      <td>31</td>\n",
              "      <td>0</td>\n",
              "    </tr>\n",
              "    <tr>\n",
              "      <th>2</th>\n",
              "      <td>8</td>\n",
              "      <td>183</td>\n",
              "      <td>64</td>\n",
              "      <td>0</td>\n",
              "      <td>155.548223</td>\n",
              "      <td>23.3</td>\n",
              "      <td>0.672</td>\n",
              "      <td>32</td>\n",
              "      <td>1</td>\n",
              "    </tr>\n",
              "    <tr>\n",
              "      <th>3</th>\n",
              "      <td>1</td>\n",
              "      <td>89</td>\n",
              "      <td>66</td>\n",
              "      <td>23</td>\n",
              "      <td>94.000000</td>\n",
              "      <td>28.1</td>\n",
              "      <td>0.167</td>\n",
              "      <td>21</td>\n",
              "      <td>0</td>\n",
              "    </tr>\n",
              "    <tr>\n",
              "      <th>4</th>\n",
              "      <td>0</td>\n",
              "      <td>137</td>\n",
              "      <td>40</td>\n",
              "      <td>35</td>\n",
              "      <td>168.000000</td>\n",
              "      <td>43.1</td>\n",
              "      <td>2.288</td>\n",
              "      <td>33</td>\n",
              "      <td>1</td>\n",
              "    </tr>\n",
              "  </tbody>\n",
              "</table>\n",
              "</div>\n",
              "    <div class=\"colab-df-buttons\">\n",
              "\n",
              "  <div class=\"colab-df-container\">\n",
              "    <button class=\"colab-df-convert\" onclick=\"convertToInteractive('df-518747b1-125b-4071-8bbc-348521178ea3')\"\n",
              "            title=\"Convert this dataframe to an interactive table.\"\n",
              "            style=\"display:none;\">\n",
              "\n",
              "  <svg xmlns=\"http://www.w3.org/2000/svg\" height=\"24px\" viewBox=\"0 -960 960 960\">\n",
              "    <path d=\"M120-120v-720h720v720H120Zm60-500h600v-160H180v160Zm220 220h160v-160H400v160Zm0 220h160v-160H400v160ZM180-400h160v-160H180v160Zm440 0h160v-160H620v160ZM180-180h160v-160H180v160Zm440 0h160v-160H620v160Z\"/>\n",
              "  </svg>\n",
              "    </button>\n",
              "\n",
              "  <style>\n",
              "    .colab-df-container {\n",
              "      display:flex;\n",
              "      gap: 12px;\n",
              "    }\n",
              "\n",
              "    .colab-df-convert {\n",
              "      background-color: #E8F0FE;\n",
              "      border: none;\n",
              "      border-radius: 50%;\n",
              "      cursor: pointer;\n",
              "      display: none;\n",
              "      fill: #1967D2;\n",
              "      height: 32px;\n",
              "      padding: 0 0 0 0;\n",
              "      width: 32px;\n",
              "    }\n",
              "\n",
              "    .colab-df-convert:hover {\n",
              "      background-color: #E2EBFA;\n",
              "      box-shadow: 0px 1px 2px rgba(60, 64, 67, 0.3), 0px 1px 3px 1px rgba(60, 64, 67, 0.15);\n",
              "      fill: #174EA6;\n",
              "    }\n",
              "\n",
              "    .colab-df-buttons div {\n",
              "      margin-bottom: 4px;\n",
              "    }\n",
              "\n",
              "    [theme=dark] .colab-df-convert {\n",
              "      background-color: #3B4455;\n",
              "      fill: #D2E3FC;\n",
              "    }\n",
              "\n",
              "    [theme=dark] .colab-df-convert:hover {\n",
              "      background-color: #434B5C;\n",
              "      box-shadow: 0px 1px 3px 1px rgba(0, 0, 0, 0.15);\n",
              "      filter: drop-shadow(0px 1px 2px rgba(0, 0, 0, 0.3));\n",
              "      fill: #FFFFFF;\n",
              "    }\n",
              "  </style>\n",
              "\n",
              "    <script>\n",
              "      const buttonEl =\n",
              "        document.querySelector('#df-518747b1-125b-4071-8bbc-348521178ea3 button.colab-df-convert');\n",
              "      buttonEl.style.display =\n",
              "        google.colab.kernel.accessAllowed ? 'block' : 'none';\n",
              "\n",
              "      async function convertToInteractive(key) {\n",
              "        const element = document.querySelector('#df-518747b1-125b-4071-8bbc-348521178ea3');\n",
              "        const dataTable =\n",
              "          await google.colab.kernel.invokeFunction('convertToInteractive',\n",
              "                                                    [key], {});\n",
              "        if (!dataTable) return;\n",
              "\n",
              "        const docLinkHtml = 'Like what you see? Visit the ' +\n",
              "          '<a target=\"_blank\" href=https://colab.research.google.com/notebooks/data_table.ipynb>data table notebook</a>'\n",
              "          + ' to learn more about interactive tables.';\n",
              "        element.innerHTML = '';\n",
              "        dataTable['output_type'] = 'display_data';\n",
              "        await google.colab.output.renderOutput(dataTable, element);\n",
              "        const docLink = document.createElement('div');\n",
              "        docLink.innerHTML = docLinkHtml;\n",
              "        element.appendChild(docLink);\n",
              "      }\n",
              "    </script>\n",
              "  </div>\n",
              "\n",
              "\n",
              "<div id=\"df-7d56a9dc-ee69-4420-aa2c-2f7bf287dbb5\">\n",
              "  <button class=\"colab-df-quickchart\" onclick=\"quickchart('df-7d56a9dc-ee69-4420-aa2c-2f7bf287dbb5')\"\n",
              "            title=\"Suggest charts\"\n",
              "            style=\"display:none;\">\n",
              "\n",
              "<svg xmlns=\"http://www.w3.org/2000/svg\" height=\"24px\"viewBox=\"0 0 24 24\"\n",
              "     width=\"24px\">\n",
              "    <g>\n",
              "        <path d=\"M19 3H5c-1.1 0-2 .9-2 2v14c0 1.1.9 2 2 2h14c1.1 0 2-.9 2-2V5c0-1.1-.9-2-2-2zM9 17H7v-7h2v7zm4 0h-2V7h2v10zm4 0h-2v-4h2v4z\"/>\n",
              "    </g>\n",
              "</svg>\n",
              "  </button>\n",
              "\n",
              "<style>\n",
              "  .colab-df-quickchart {\n",
              "      --bg-color: #E8F0FE;\n",
              "      --fill-color: #1967D2;\n",
              "      --hover-bg-color: #E2EBFA;\n",
              "      --hover-fill-color: #174EA6;\n",
              "      --disabled-fill-color: #AAA;\n",
              "      --disabled-bg-color: #DDD;\n",
              "  }\n",
              "\n",
              "  [theme=dark] .colab-df-quickchart {\n",
              "      --bg-color: #3B4455;\n",
              "      --fill-color: #D2E3FC;\n",
              "      --hover-bg-color: #434B5C;\n",
              "      --hover-fill-color: #FFFFFF;\n",
              "      --disabled-bg-color: #3B4455;\n",
              "      --disabled-fill-color: #666;\n",
              "  }\n",
              "\n",
              "  .colab-df-quickchart {\n",
              "    background-color: var(--bg-color);\n",
              "    border: none;\n",
              "    border-radius: 50%;\n",
              "    cursor: pointer;\n",
              "    display: none;\n",
              "    fill: var(--fill-color);\n",
              "    height: 32px;\n",
              "    padding: 0;\n",
              "    width: 32px;\n",
              "  }\n",
              "\n",
              "  .colab-df-quickchart:hover {\n",
              "    background-color: var(--hover-bg-color);\n",
              "    box-shadow: 0 1px 2px rgba(60, 64, 67, 0.3), 0 1px 3px 1px rgba(60, 64, 67, 0.15);\n",
              "    fill: var(--button-hover-fill-color);\n",
              "  }\n",
              "\n",
              "  .colab-df-quickchart-complete:disabled,\n",
              "  .colab-df-quickchart-complete:disabled:hover {\n",
              "    background-color: var(--disabled-bg-color);\n",
              "    fill: var(--disabled-fill-color);\n",
              "    box-shadow: none;\n",
              "  }\n",
              "\n",
              "  .colab-df-spinner {\n",
              "    border: 2px solid var(--fill-color);\n",
              "    border-color: transparent;\n",
              "    border-bottom-color: var(--fill-color);\n",
              "    animation:\n",
              "      spin 1s steps(1) infinite;\n",
              "  }\n",
              "\n",
              "  @keyframes spin {\n",
              "    0% {\n",
              "      border-color: transparent;\n",
              "      border-bottom-color: var(--fill-color);\n",
              "      border-left-color: var(--fill-color);\n",
              "    }\n",
              "    20% {\n",
              "      border-color: transparent;\n",
              "      border-left-color: var(--fill-color);\n",
              "      border-top-color: var(--fill-color);\n",
              "    }\n",
              "    30% {\n",
              "      border-color: transparent;\n",
              "      border-left-color: var(--fill-color);\n",
              "      border-top-color: var(--fill-color);\n",
              "      border-right-color: var(--fill-color);\n",
              "    }\n",
              "    40% {\n",
              "      border-color: transparent;\n",
              "      border-right-color: var(--fill-color);\n",
              "      border-top-color: var(--fill-color);\n",
              "    }\n",
              "    60% {\n",
              "      border-color: transparent;\n",
              "      border-right-color: var(--fill-color);\n",
              "    }\n",
              "    80% {\n",
              "      border-color: transparent;\n",
              "      border-right-color: var(--fill-color);\n",
              "      border-bottom-color: var(--fill-color);\n",
              "    }\n",
              "    90% {\n",
              "      border-color: transparent;\n",
              "      border-bottom-color: var(--fill-color);\n",
              "    }\n",
              "  }\n",
              "</style>\n",
              "\n",
              "  <script>\n",
              "    async function quickchart(key) {\n",
              "      const quickchartButtonEl =\n",
              "        document.querySelector('#' + key + ' button');\n",
              "      quickchartButtonEl.disabled = true;  // To prevent multiple clicks.\n",
              "      quickchartButtonEl.classList.add('colab-df-spinner');\n",
              "      try {\n",
              "        const charts = await google.colab.kernel.invokeFunction(\n",
              "            'suggestCharts', [key], {});\n",
              "      } catch (error) {\n",
              "        console.error('Error during call to suggestCharts:', error);\n",
              "      }\n",
              "      quickchartButtonEl.classList.remove('colab-df-spinner');\n",
              "      quickchartButtonEl.classList.add('colab-df-quickchart-complete');\n",
              "    }\n",
              "    (() => {\n",
              "      let quickchartButtonEl =\n",
              "        document.querySelector('#df-7d56a9dc-ee69-4420-aa2c-2f7bf287dbb5 button');\n",
              "      quickchartButtonEl.style.display =\n",
              "        google.colab.kernel.accessAllowed ? 'block' : 'none';\n",
              "    })();\n",
              "  </script>\n",
              "</div>\n",
              "\n",
              "    </div>\n",
              "  </div>\n"
            ],
            "application/vnd.google.colaboratory.intrinsic+json": {
              "type": "dataframe",
              "variable_name": "df",
              "summary": "{\n  \"name\": \"df\",\n  \"rows\": 733,\n  \"fields\": [\n    {\n      \"column\": \"Pregnancies\",\n      \"properties\": {\n        \"dtype\": \"number\",\n        \"std\": 3,\n        \"min\": 0,\n        \"max\": 17,\n        \"num_unique_values\": 17,\n        \"samples\": [\n          6,\n          1,\n          3\n        ],\n        \"semantic_type\": \"\",\n        \"description\": \"\"\n      }\n    },\n    {\n      \"column\": \"Glucose\",\n      \"properties\": {\n        \"dtype\": \"number\",\n        \"std\": 32,\n        \"min\": 0,\n        \"max\": 199,\n        \"num_unique_values\": 136,\n        \"samples\": [\n          76,\n          150,\n          83\n        ],\n        \"semantic_type\": \"\",\n        \"description\": \"\"\n      }\n    },\n    {\n      \"column\": \"BloodPressure\",\n      \"properties\": {\n        \"dtype\": \"number\",\n        \"std\": 12,\n        \"min\": 24,\n        \"max\": 122,\n        \"num_unique_values\": 46,\n        \"samples\": [\n          102,\n          85,\n          86\n        ],\n        \"semantic_type\": \"\",\n        \"description\": \"\"\n      }\n    },\n    {\n      \"column\": \"SkinThickness\",\n      \"properties\": {\n        \"dtype\": \"number\",\n        \"std\": 15,\n        \"min\": 0,\n        \"max\": 99,\n        \"num_unique_values\": 51,\n        \"samples\": [\n          7,\n          12,\n          48\n        ],\n        \"semantic_type\": \"\",\n        \"description\": \"\"\n      }\n    },\n    {\n      \"column\": \"Insulin\",\n      \"properties\": {\n        \"dtype\": \"number\",\n        \"std\": 87.02998339995304,\n        \"min\": 14.0,\n        \"max\": 846.0,\n        \"num_unique_values\": 186,\n        \"samples\": [\n          52.0,\n          41.0,\n          183.0\n        ],\n        \"semantic_type\": \"\",\n        \"description\": \"\"\n      }\n    },\n    {\n      \"column\": \"BMI\",\n      \"properties\": {\n        \"dtype\": \"number\",\n        \"std\": 7.27153967036171,\n        \"min\": 0.0,\n        \"max\": 67.1,\n        \"num_unique_values\": 247,\n        \"samples\": [\n          24.0,\n          31.0,\n          23.1\n        ],\n        \"semantic_type\": \"\",\n        \"description\": \"\"\n      }\n    },\n    {\n      \"column\": \"DiabetesPedigreeFunction\",\n      \"properties\": {\n        \"dtype\": \"number\",\n        \"std\": 0.33417933449601817,\n        \"min\": 0.078,\n        \"max\": 2.42,\n        \"num_unique_values\": 503,\n        \"samples\": [\n          0.122,\n          0.227,\n          0.499\n        ],\n        \"semantic_type\": \"\",\n        \"description\": \"\"\n      }\n    },\n    {\n      \"column\": \"Age\",\n      \"properties\": {\n        \"dtype\": \"number\",\n        \"std\": 11,\n        \"min\": 21,\n        \"max\": 81,\n        \"num_unique_values\": 51,\n        \"samples\": [\n          66,\n          65,\n          67\n        ],\n        \"semantic_type\": \"\",\n        \"description\": \"\"\n      }\n    },\n    {\n      \"column\": \"Outcome\",\n      \"properties\": {\n        \"dtype\": \"number\",\n        \"std\": 0,\n        \"min\": 0,\n        \"max\": 1,\n        \"num_unique_values\": 2,\n        \"samples\": [\n          0,\n          1\n        ],\n        \"semantic_type\": \"\",\n        \"description\": \"\"\n      }\n    }\n  ]\n}"
            }
          },
          "metadata": {},
          "execution_count": 54
        }
      ]
    },
    {
      "cell_type": "code",
      "source": [
        "df[df['Insulin'] != 0]['Insulin'].mean()"
      ],
      "metadata": {
        "colab": {
          "base_uri": "https://localhost:8080/"
        },
        "id": "HpKdPEKppGBc",
        "outputId": "e8cb3eb6-71fa-4e5d-82c9-a0e09ccdcce2"
      },
      "execution_count": 5,
      "outputs": [
        {
          "output_type": "execute_result",
          "data": {
            "text/plain": [
              "155.5482233502538"
            ]
          },
          "metadata": {},
          "execution_count": 5
        }
      ]
    },
    {
      "cell_type": "code",
      "source": [
        "df.loc[df['Insulin'] == 0, 'Insulin'] = df[df['Insulin'] != 0]['Insulin'].mean()  # zamiana 0 w polu Insulin na wartosci srednie Insulin, ale bez zer"
      ],
      "metadata": {
        "id": "3bJrkVlyprNe",
        "colab": {
          "base_uri": "https://localhost:8080/"
        },
        "outputId": "009477d6-338a-4686-eb7a-b44a5fcbdcd7"
      },
      "execution_count": 6,
      "outputs": [
        {
          "output_type": "stream",
          "name": "stderr",
          "text": [
            "<ipython-input-6-8a57d7874cf6>:1: FutureWarning: Setting an item of incompatible dtype is deprecated and will raise in a future error of pandas. Value '155.5482233502538' has dtype incompatible with int64, please explicitly cast to a compatible dtype first.\n",
            "  df.loc[df['Insulin'] == 0, 'Insulin'] = df[df['Insulin'] != 0]['Insulin'].mean()  # zamiana 0 w polu Insulin na wartosci srednie Insulin, ale bez zer\n"
          ]
        }
      ]
    },
    {
      "cell_type": "code",
      "source": [
        "df.head()"
      ],
      "metadata": {
        "colab": {
          "base_uri": "https://localhost:8080/",
          "height": 206
        },
        "id": "EInfZhYRqEPG",
        "outputId": "0719969a-2061-4b41-8948-d67a4a64a613"
      },
      "execution_count": 55,
      "outputs": [
        {
          "output_type": "execute_result",
          "data": {
            "text/plain": [
              "   Pregnancies  Glucose  BloodPressure  SkinThickness     Insulin   BMI  \\\n",
              "0            6      148             72             35  155.548223  33.6   \n",
              "1            1       85             66             29  155.548223  26.6   \n",
              "2            8      183             64              0  155.548223  23.3   \n",
              "3            1       89             66             23   94.000000  28.1   \n",
              "4            0      137             40             35  168.000000  43.1   \n",
              "\n",
              "   DiabetesPedigreeFunction  Age  Outcome  \n",
              "0                     0.627   50        1  \n",
              "1                     0.351   31        0  \n",
              "2                     0.672   32        1  \n",
              "3                     0.167   21        0  \n",
              "4                     2.288   33        1  "
            ],
            "text/html": [
              "\n",
              "  <div id=\"df-b791b72c-85ed-4cad-baaf-9cd485bdd9b3\" class=\"colab-df-container\">\n",
              "    <div>\n",
              "<style scoped>\n",
              "    .dataframe tbody tr th:only-of-type {\n",
              "        vertical-align: middle;\n",
              "    }\n",
              "\n",
              "    .dataframe tbody tr th {\n",
              "        vertical-align: top;\n",
              "    }\n",
              "\n",
              "    .dataframe thead th {\n",
              "        text-align: right;\n",
              "    }\n",
              "</style>\n",
              "<table border=\"1\" class=\"dataframe\">\n",
              "  <thead>\n",
              "    <tr style=\"text-align: right;\">\n",
              "      <th></th>\n",
              "      <th>Pregnancies</th>\n",
              "      <th>Glucose</th>\n",
              "      <th>BloodPressure</th>\n",
              "      <th>SkinThickness</th>\n",
              "      <th>Insulin</th>\n",
              "      <th>BMI</th>\n",
              "      <th>DiabetesPedigreeFunction</th>\n",
              "      <th>Age</th>\n",
              "      <th>Outcome</th>\n",
              "    </tr>\n",
              "  </thead>\n",
              "  <tbody>\n",
              "    <tr>\n",
              "      <th>0</th>\n",
              "      <td>6</td>\n",
              "      <td>148</td>\n",
              "      <td>72</td>\n",
              "      <td>35</td>\n",
              "      <td>155.548223</td>\n",
              "      <td>33.6</td>\n",
              "      <td>0.627</td>\n",
              "      <td>50</td>\n",
              "      <td>1</td>\n",
              "    </tr>\n",
              "    <tr>\n",
              "      <th>1</th>\n",
              "      <td>1</td>\n",
              "      <td>85</td>\n",
              "      <td>66</td>\n",
              "      <td>29</td>\n",
              "      <td>155.548223</td>\n",
              "      <td>26.6</td>\n",
              "      <td>0.351</td>\n",
              "      <td>31</td>\n",
              "      <td>0</td>\n",
              "    </tr>\n",
              "    <tr>\n",
              "      <th>2</th>\n",
              "      <td>8</td>\n",
              "      <td>183</td>\n",
              "      <td>64</td>\n",
              "      <td>0</td>\n",
              "      <td>155.548223</td>\n",
              "      <td>23.3</td>\n",
              "      <td>0.672</td>\n",
              "      <td>32</td>\n",
              "      <td>1</td>\n",
              "    </tr>\n",
              "    <tr>\n",
              "      <th>3</th>\n",
              "      <td>1</td>\n",
              "      <td>89</td>\n",
              "      <td>66</td>\n",
              "      <td>23</td>\n",
              "      <td>94.000000</td>\n",
              "      <td>28.1</td>\n",
              "      <td>0.167</td>\n",
              "      <td>21</td>\n",
              "      <td>0</td>\n",
              "    </tr>\n",
              "    <tr>\n",
              "      <th>4</th>\n",
              "      <td>0</td>\n",
              "      <td>137</td>\n",
              "      <td>40</td>\n",
              "      <td>35</td>\n",
              "      <td>168.000000</td>\n",
              "      <td>43.1</td>\n",
              "      <td>2.288</td>\n",
              "      <td>33</td>\n",
              "      <td>1</td>\n",
              "    </tr>\n",
              "  </tbody>\n",
              "</table>\n",
              "</div>\n",
              "    <div class=\"colab-df-buttons\">\n",
              "\n",
              "  <div class=\"colab-df-container\">\n",
              "    <button class=\"colab-df-convert\" onclick=\"convertToInteractive('df-b791b72c-85ed-4cad-baaf-9cd485bdd9b3')\"\n",
              "            title=\"Convert this dataframe to an interactive table.\"\n",
              "            style=\"display:none;\">\n",
              "\n",
              "  <svg xmlns=\"http://www.w3.org/2000/svg\" height=\"24px\" viewBox=\"0 -960 960 960\">\n",
              "    <path d=\"M120-120v-720h720v720H120Zm60-500h600v-160H180v160Zm220 220h160v-160H400v160Zm0 220h160v-160H400v160ZM180-400h160v-160H180v160Zm440 0h160v-160H620v160ZM180-180h160v-160H180v160Zm440 0h160v-160H620v160Z\"/>\n",
              "  </svg>\n",
              "    </button>\n",
              "\n",
              "  <style>\n",
              "    .colab-df-container {\n",
              "      display:flex;\n",
              "      gap: 12px;\n",
              "    }\n",
              "\n",
              "    .colab-df-convert {\n",
              "      background-color: #E8F0FE;\n",
              "      border: none;\n",
              "      border-radius: 50%;\n",
              "      cursor: pointer;\n",
              "      display: none;\n",
              "      fill: #1967D2;\n",
              "      height: 32px;\n",
              "      padding: 0 0 0 0;\n",
              "      width: 32px;\n",
              "    }\n",
              "\n",
              "    .colab-df-convert:hover {\n",
              "      background-color: #E2EBFA;\n",
              "      box-shadow: 0px 1px 2px rgba(60, 64, 67, 0.3), 0px 1px 3px 1px rgba(60, 64, 67, 0.15);\n",
              "      fill: #174EA6;\n",
              "    }\n",
              "\n",
              "    .colab-df-buttons div {\n",
              "      margin-bottom: 4px;\n",
              "    }\n",
              "\n",
              "    [theme=dark] .colab-df-convert {\n",
              "      background-color: #3B4455;\n",
              "      fill: #D2E3FC;\n",
              "    }\n",
              "\n",
              "    [theme=dark] .colab-df-convert:hover {\n",
              "      background-color: #434B5C;\n",
              "      box-shadow: 0px 1px 3px 1px rgba(0, 0, 0, 0.15);\n",
              "      filter: drop-shadow(0px 1px 2px rgba(0, 0, 0, 0.3));\n",
              "      fill: #FFFFFF;\n",
              "    }\n",
              "  </style>\n",
              "\n",
              "    <script>\n",
              "      const buttonEl =\n",
              "        document.querySelector('#df-b791b72c-85ed-4cad-baaf-9cd485bdd9b3 button.colab-df-convert');\n",
              "      buttonEl.style.display =\n",
              "        google.colab.kernel.accessAllowed ? 'block' : 'none';\n",
              "\n",
              "      async function convertToInteractive(key) {\n",
              "        const element = document.querySelector('#df-b791b72c-85ed-4cad-baaf-9cd485bdd9b3');\n",
              "        const dataTable =\n",
              "          await google.colab.kernel.invokeFunction('convertToInteractive',\n",
              "                                                    [key], {});\n",
              "        if (!dataTable) return;\n",
              "\n",
              "        const docLinkHtml = 'Like what you see? Visit the ' +\n",
              "          '<a target=\"_blank\" href=https://colab.research.google.com/notebooks/data_table.ipynb>data table notebook</a>'\n",
              "          + ' to learn more about interactive tables.';\n",
              "        element.innerHTML = '';\n",
              "        dataTable['output_type'] = 'display_data';\n",
              "        await google.colab.output.renderOutput(dataTable, element);\n",
              "        const docLink = document.createElement('div');\n",
              "        docLink.innerHTML = docLinkHtml;\n",
              "        element.appendChild(docLink);\n",
              "      }\n",
              "    </script>\n",
              "  </div>\n",
              "\n",
              "\n",
              "<div id=\"df-12185ccc-299e-47d1-99e7-0291541a28ed\">\n",
              "  <button class=\"colab-df-quickchart\" onclick=\"quickchart('df-12185ccc-299e-47d1-99e7-0291541a28ed')\"\n",
              "            title=\"Suggest charts\"\n",
              "            style=\"display:none;\">\n",
              "\n",
              "<svg xmlns=\"http://www.w3.org/2000/svg\" height=\"24px\"viewBox=\"0 0 24 24\"\n",
              "     width=\"24px\">\n",
              "    <g>\n",
              "        <path d=\"M19 3H5c-1.1 0-2 .9-2 2v14c0 1.1.9 2 2 2h14c1.1 0 2-.9 2-2V5c0-1.1-.9-2-2-2zM9 17H7v-7h2v7zm4 0h-2V7h2v10zm4 0h-2v-4h2v4z\"/>\n",
              "    </g>\n",
              "</svg>\n",
              "  </button>\n",
              "\n",
              "<style>\n",
              "  .colab-df-quickchart {\n",
              "      --bg-color: #E8F0FE;\n",
              "      --fill-color: #1967D2;\n",
              "      --hover-bg-color: #E2EBFA;\n",
              "      --hover-fill-color: #174EA6;\n",
              "      --disabled-fill-color: #AAA;\n",
              "      --disabled-bg-color: #DDD;\n",
              "  }\n",
              "\n",
              "  [theme=dark] .colab-df-quickchart {\n",
              "      --bg-color: #3B4455;\n",
              "      --fill-color: #D2E3FC;\n",
              "      --hover-bg-color: #434B5C;\n",
              "      --hover-fill-color: #FFFFFF;\n",
              "      --disabled-bg-color: #3B4455;\n",
              "      --disabled-fill-color: #666;\n",
              "  }\n",
              "\n",
              "  .colab-df-quickchart {\n",
              "    background-color: var(--bg-color);\n",
              "    border: none;\n",
              "    border-radius: 50%;\n",
              "    cursor: pointer;\n",
              "    display: none;\n",
              "    fill: var(--fill-color);\n",
              "    height: 32px;\n",
              "    padding: 0;\n",
              "    width: 32px;\n",
              "  }\n",
              "\n",
              "  .colab-df-quickchart:hover {\n",
              "    background-color: var(--hover-bg-color);\n",
              "    box-shadow: 0 1px 2px rgba(60, 64, 67, 0.3), 0 1px 3px 1px rgba(60, 64, 67, 0.15);\n",
              "    fill: var(--button-hover-fill-color);\n",
              "  }\n",
              "\n",
              "  .colab-df-quickchart-complete:disabled,\n",
              "  .colab-df-quickchart-complete:disabled:hover {\n",
              "    background-color: var(--disabled-bg-color);\n",
              "    fill: var(--disabled-fill-color);\n",
              "    box-shadow: none;\n",
              "  }\n",
              "\n",
              "  .colab-df-spinner {\n",
              "    border: 2px solid var(--fill-color);\n",
              "    border-color: transparent;\n",
              "    border-bottom-color: var(--fill-color);\n",
              "    animation:\n",
              "      spin 1s steps(1) infinite;\n",
              "  }\n",
              "\n",
              "  @keyframes spin {\n",
              "    0% {\n",
              "      border-color: transparent;\n",
              "      border-bottom-color: var(--fill-color);\n",
              "      border-left-color: var(--fill-color);\n",
              "    }\n",
              "    20% {\n",
              "      border-color: transparent;\n",
              "      border-left-color: var(--fill-color);\n",
              "      border-top-color: var(--fill-color);\n",
              "    }\n",
              "    30% {\n",
              "      border-color: transparent;\n",
              "      border-left-color: var(--fill-color);\n",
              "      border-top-color: var(--fill-color);\n",
              "      border-right-color: var(--fill-color);\n",
              "    }\n",
              "    40% {\n",
              "      border-color: transparent;\n",
              "      border-right-color: var(--fill-color);\n",
              "      border-top-color: var(--fill-color);\n",
              "    }\n",
              "    60% {\n",
              "      border-color: transparent;\n",
              "      border-right-color: var(--fill-color);\n",
              "    }\n",
              "    80% {\n",
              "      border-color: transparent;\n",
              "      border-right-color: var(--fill-color);\n",
              "      border-bottom-color: var(--fill-color);\n",
              "    }\n",
              "    90% {\n",
              "      border-color: transparent;\n",
              "      border-bottom-color: var(--fill-color);\n",
              "    }\n",
              "  }\n",
              "</style>\n",
              "\n",
              "  <script>\n",
              "    async function quickchart(key) {\n",
              "      const quickchartButtonEl =\n",
              "        document.querySelector('#' + key + ' button');\n",
              "      quickchartButtonEl.disabled = true;  // To prevent multiple clicks.\n",
              "      quickchartButtonEl.classList.add('colab-df-spinner');\n",
              "      try {\n",
              "        const charts = await google.colab.kernel.invokeFunction(\n",
              "            'suggestCharts', [key], {});\n",
              "      } catch (error) {\n",
              "        console.error('Error during call to suggestCharts:', error);\n",
              "      }\n",
              "      quickchartButtonEl.classList.remove('colab-df-spinner');\n",
              "      quickchartButtonEl.classList.add('colab-df-quickchart-complete');\n",
              "    }\n",
              "    (() => {\n",
              "      let quickchartButtonEl =\n",
              "        document.querySelector('#df-12185ccc-299e-47d1-99e7-0291541a28ed button');\n",
              "      quickchartButtonEl.style.display =\n",
              "        google.colab.kernel.accessAllowed ? 'block' : 'none';\n",
              "    })();\n",
              "  </script>\n",
              "</div>\n",
              "\n",
              "    </div>\n",
              "  </div>\n"
            ],
            "application/vnd.google.colaboratory.intrinsic+json": {
              "type": "dataframe",
              "variable_name": "df",
              "summary": "{\n  \"name\": \"df\",\n  \"rows\": 733,\n  \"fields\": [\n    {\n      \"column\": \"Pregnancies\",\n      \"properties\": {\n        \"dtype\": \"number\",\n        \"std\": 3,\n        \"min\": 0,\n        \"max\": 17,\n        \"num_unique_values\": 17,\n        \"samples\": [\n          6,\n          1,\n          3\n        ],\n        \"semantic_type\": \"\",\n        \"description\": \"\"\n      }\n    },\n    {\n      \"column\": \"Glucose\",\n      \"properties\": {\n        \"dtype\": \"number\",\n        \"std\": 32,\n        \"min\": 0,\n        \"max\": 199,\n        \"num_unique_values\": 136,\n        \"samples\": [\n          76,\n          150,\n          83\n        ],\n        \"semantic_type\": \"\",\n        \"description\": \"\"\n      }\n    },\n    {\n      \"column\": \"BloodPressure\",\n      \"properties\": {\n        \"dtype\": \"number\",\n        \"std\": 12,\n        \"min\": 24,\n        \"max\": 122,\n        \"num_unique_values\": 46,\n        \"samples\": [\n          102,\n          85,\n          86\n        ],\n        \"semantic_type\": \"\",\n        \"description\": \"\"\n      }\n    },\n    {\n      \"column\": \"SkinThickness\",\n      \"properties\": {\n        \"dtype\": \"number\",\n        \"std\": 15,\n        \"min\": 0,\n        \"max\": 99,\n        \"num_unique_values\": 51,\n        \"samples\": [\n          7,\n          12,\n          48\n        ],\n        \"semantic_type\": \"\",\n        \"description\": \"\"\n      }\n    },\n    {\n      \"column\": \"Insulin\",\n      \"properties\": {\n        \"dtype\": \"number\",\n        \"std\": 87.02998339995304,\n        \"min\": 14.0,\n        \"max\": 846.0,\n        \"num_unique_values\": 186,\n        \"samples\": [\n          52.0,\n          41.0,\n          183.0\n        ],\n        \"semantic_type\": \"\",\n        \"description\": \"\"\n      }\n    },\n    {\n      \"column\": \"BMI\",\n      \"properties\": {\n        \"dtype\": \"number\",\n        \"std\": 7.27153967036171,\n        \"min\": 0.0,\n        \"max\": 67.1,\n        \"num_unique_values\": 247,\n        \"samples\": [\n          24.0,\n          31.0,\n          23.1\n        ],\n        \"semantic_type\": \"\",\n        \"description\": \"\"\n      }\n    },\n    {\n      \"column\": \"DiabetesPedigreeFunction\",\n      \"properties\": {\n        \"dtype\": \"number\",\n        \"std\": 0.33417933449601817,\n        \"min\": 0.078,\n        \"max\": 2.42,\n        \"num_unique_values\": 503,\n        \"samples\": [\n          0.122,\n          0.227,\n          0.499\n        ],\n        \"semantic_type\": \"\",\n        \"description\": \"\"\n      }\n    },\n    {\n      \"column\": \"Age\",\n      \"properties\": {\n        \"dtype\": \"number\",\n        \"std\": 11,\n        \"min\": 21,\n        \"max\": 81,\n        \"num_unique_values\": 51,\n        \"samples\": [\n          66,\n          65,\n          67\n        ],\n        \"semantic_type\": \"\",\n        \"description\": \"\"\n      }\n    },\n    {\n      \"column\": \"Outcome\",\n      \"properties\": {\n        \"dtype\": \"number\",\n        \"std\": 0,\n        \"min\": 0,\n        \"max\": 1,\n        \"num_unique_values\": 2,\n        \"samples\": [\n          0,\n          1\n        ],\n        \"semantic_type\": \"\",\n        \"description\": \"\"\n      }\n    }\n  ]\n}"
            }
          },
          "metadata": {},
          "execution_count": 55
        }
      ]
    },
    {
      "cell_type": "code",
      "source": [
        "(df['Insulin'] != 0).mean()"
      ],
      "metadata": {
        "colab": {
          "base_uri": "https://localhost:8080/"
        },
        "id": "VSnbdTeZorqs",
        "outputId": "78e7a914-ccf0-443f-f3c3-b0e6d5bc9ec2"
      },
      "execution_count": 8,
      "outputs": [
        {
          "output_type": "execute_result",
          "data": {
            "text/plain": [
              "1.0"
            ]
          },
          "metadata": {},
          "execution_count": 8
        }
      ]
    },
    {
      "cell_type": "code",
      "source": [
        "from sklearn import model_selection\n",
        "from sklearn import preprocessing"
      ],
      "metadata": {
        "id": "iU_CRSJNDUBr"
      },
      "execution_count": 9,
      "outputs": []
    },
    {
      "cell_type": "code",
      "source": [
        "target = \"Outcome\"\n",
        "X, y = df.drop(columns=target), df[target]\n",
        "scaler = preprocessing.StandardScaler()\n",
        "X_train, X_test, y_train, y_test = model_selection.train_test_split(X, y, random_state=999)\n",
        "scaler.fit(X_train)\n",
        "X_train = scaler.transform(X_train)\n",
        "X_test = scaler.transform(X_test)\n",
        "clf = neighbors.KNeighborsClassifier()  #\n",
        "clf.fit(X_train, y_train)\n",
        "clf.score(X_train, y_train), clf.score(X_test, y_test)"
      ],
      "metadata": {
        "colab": {
          "base_uri": "https://localhost:8080/"
        },
        "id": "RvKCxmynDiBB",
        "outputId": "e0788184-b938-4bf2-86f7-f3bdecfc3d65"
      },
      "execution_count": 10,
      "outputs": [
        {
          "output_type": "execute_result",
          "data": {
            "text/plain": [
              "(0.8087431693989071, 0.75)"
            ]
          },
          "metadata": {},
          "execution_count": 10
        }
      ]
    },
    {
      "cell_type": "code",
      "source": [
        "from tqdm import tqdm"
      ],
      "metadata": {
        "id": "s1iGvFiHGa99"
      },
      "execution_count": 11,
      "outputs": []
    },
    {
      "cell_type": "code",
      "source": [
        "score_train = []\n",
        "score_test = []\n",
        "k = range(1,100)\n",
        "for i in tqdm(k):\n",
        "    clf = neighbors.KNeighborsClassifier(i)\n",
        "    clf.fit(X_train, y_train)\n",
        "    score_train.append(clf.score(X_train, y_train))\n",
        "    score_test.append(clf.score(X_test, y_test))"
      ],
      "metadata": {
        "colab": {
          "base_uri": "https://localhost:8080/"
        },
        "id": "HOtuAd3jEHbO",
        "outputId": "96d0f0a7-b6ec-45cd-88db-953a8c08c00e"
      },
      "execution_count": 12,
      "outputs": [
        {
          "output_type": "stream",
          "name": "stderr",
          "text": [
            "100%|██████████| 99/99 [00:07<00:00, 14.07it/s]\n"
          ]
        }
      ]
    },
    {
      "cell_type": "code",
      "source": [
        "plt.plot(k, score_train, c='blue')\n",
        "plt.plot(k, score_test, c='red')\n",
        "plt.show()"
      ],
      "metadata": {
        "colab": {
          "base_uri": "https://localhost:8080/",
          "height": 430
        },
        "id": "MmfDJJlqGsm8",
        "outputId": "aa0b2161-7970-4c09-f463-c952ccb15760"
      },
      "execution_count": 13,
      "outputs": [
        {
          "output_type": "display_data",
          "data": {
            "text/plain": [
              "<Figure size 640x480 with 1 Axes>"
            ],
            "image/png": "[encoded data removed]"
          },
          "metadata": {}
        }
      ]
    },
    {
      "cell_type": "code",
      "source": [
        "k = 10\n",
        "clf = neighbors.KNeighborsClassifier( n_neighbors=k)\n",
        "clf.fit(X_train, y_train)\n",
        "clf.score(X_test, y_test)  # accuracy"
      ],
      "metadata": {
        "colab": {
          "base_uri": "https://localhost:8080/"
        },
        "id": "q2zikwWRG_--",
        "outputId": "0d231b6f-b860-42b9-9560-a684c3259167"
      },
      "execution_count": 14,
      "outputs": [
        {
          "output_type": "execute_result",
          "data": {
            "text/plain": [
              "0.7608695652173914"
            ]
          },
          "metadata": {},
          "execution_count": 14
        }
      ]
    },
    {
      "cell_type": "code",
      "source": [
        "(clf.predict(X_test) == y_test).mean()"
      ],
      "metadata": {
        "colab": {
          "base_uri": "https://localhost:8080/"
        },
        "id": "1DUkjdOAHU1c",
        "outputId": "6a4e8bdb-79f3-4af3-ca1a-44cdd9aa6865"
      },
      "execution_count": 15,
      "outputs": [
        {
          "output_type": "execute_result",
          "data": {
            "text/plain": [
              "0.7608695652173914"
            ]
          },
          "metadata": {},
          "execution_count": 15
        }
      ]
    },
    {
      "cell_type": "code",
      "source": [
        "len(X)"
      ],
      "metadata": {
        "colab": {
          "base_uri": "https://localhost:8080/"
        },
        "id": "igikhX-VJ_gG",
        "outputId": "bdca4183-0fce-46ff-b53b-e3379963ed86"
      },
      "execution_count": 16,
      "outputs": [
        {
          "output_type": "execute_result",
          "data": {
            "text/plain": [
              "733"
            ]
          },
          "metadata": {},
          "execution_count": 16
        }
      ]
    },
    {
      "cell_type": "code",
      "source": [
        "df['Outcome'].value_counts()"
      ],
      "metadata": {
        "colab": {
          "base_uri": "https://localhost:8080/",
          "height": 178
        },
        "id": "1-CkhGfrKNRP",
        "outputId": "4742df16-c477-45dc-f6b1-d2a3506ee205"
      },
      "execution_count": 17,
      "outputs": [
        {
          "output_type": "execute_result",
          "data": {
            "text/plain": [
              "Outcome\n",
              "0    481\n",
              "1    252\n",
              "Name: count, dtype: int64"
            ],
            "text/html": [
              "<div>\n",
              "<style scoped>\n",
              "    .dataframe tbody tr th:only-of-type {\n",
              "        vertical-align: middle;\n",
              "    }\n",
              "\n",
              "    .dataframe tbody tr th {\n",
              "        vertical-align: top;\n",
              "    }\n",
              "\n",
              "    .dataframe thead th {\n",
              "        text-align: right;\n",
              "    }\n",
              "</style>\n",
              "<table border=\"1\" class=\"dataframe\">\n",
              "  <thead>\n",
              "    <tr style=\"text-align: right;\">\n",
              "      <th></th>\n",
              "      <th>count</th>\n",
              "    </tr>\n",
              "    <tr>\n",
              "      <th>Outcome</th>\n",
              "      <th></th>\n",
              "    </tr>\n",
              "  </thead>\n",
              "  <tbody>\n",
              "    <tr>\n",
              "      <th>0</th>\n",
              "      <td>481</td>\n",
              "    </tr>\n",
              "    <tr>\n",
              "      <th>1</th>\n",
              "      <td>252</td>\n",
              "    </tr>\n",
              "  </tbody>\n",
              "</table>\n",
              "</div><br><label><b>dtype:</b> int64</label>"
            ]
          },
          "metadata": {},
          "execution_count": 17
        }
      ]
    },
    {
      "cell_type": "markdown",
      "source": [
        "# Classification tree"
      ],
      "metadata": {
        "id": "ysLqj2TRD-k3"
      }
    },
    {
      "cell_type": "code",
      "source": [
        "from sklearn import tree"
      ],
      "metadata": {
        "id": "_0s6l9dcEAyo"
      },
      "execution_count": 18,
      "outputs": []
    },
    {
      "cell_type": "code",
      "source": [
        "X.mean()"
      ],
      "metadata": {
        "colab": {
          "base_uri": "https://localhost:8080/",
          "height": 335
        },
        "id": "G4Pg8kfgHio7",
        "outputId": "6529833c-0ed7-472a-ae95-c472df7276a0"
      },
      "execution_count": 19,
      "outputs": [
        {
          "output_type": "execute_result",
          "data": {
            "text/plain": [
              "Pregnancies                   3.855389\n",
              "Glucose                     121.042292\n",
              "BloodPressure                72.405184\n",
              "SkinThickness                21.444748\n",
              "Insulin                     155.548223\n",
              "BMI                          32.292769\n",
              "DiabetesPedigreeFunction      0.475861\n",
              "Age                          33.361528\n",
              "dtype: float64"
            ],
            "text/html": [
              "<div>\n",
              "<style scoped>\n",
              "    .dataframe tbody tr th:only-of-type {\n",
              "        vertical-align: middle;\n",
              "    }\n",
              "\n",
              "    .dataframe tbody tr th {\n",
              "        vertical-align: top;\n",
              "    }\n",
              "\n",
              "    .dataframe thead th {\n",
              "        text-align: right;\n",
              "    }\n",
              "</style>\n",
              "<table border=\"1\" class=\"dataframe\">\n",
              "  <thead>\n",
              "    <tr style=\"text-align: right;\">\n",
              "      <th></th>\n",
              "      <th>0</th>\n",
              "    </tr>\n",
              "  </thead>\n",
              "  <tbody>\n",
              "    <tr>\n",
              "      <th>Pregnancies</th>\n",
              "      <td>3.855389</td>\n",
              "    </tr>\n",
              "    <tr>\n",
              "      <th>Glucose</th>\n",
              "      <td>121.042292</td>\n",
              "    </tr>\n",
              "    <tr>\n",
              "      <th>BloodPressure</th>\n",
              "      <td>72.405184</td>\n",
              "    </tr>\n",
              "    <tr>\n",
              "      <th>SkinThickness</th>\n",
              "      <td>21.444748</td>\n",
              "    </tr>\n",
              "    <tr>\n",
              "      <th>Insulin</th>\n",
              "      <td>155.548223</td>\n",
              "    </tr>\n",
              "    <tr>\n",
              "      <th>BMI</th>\n",
              "      <td>32.292769</td>\n",
              "    </tr>\n",
              "    <tr>\n",
              "      <th>DiabetesPedigreeFunction</th>\n",
              "      <td>0.475861</td>\n",
              "    </tr>\n",
              "    <tr>\n",
              "      <th>Age</th>\n",
              "      <td>33.361528</td>\n",
              "    </tr>\n",
              "  </tbody>\n",
              "</table>\n",
              "</div><br><label><b>dtype:</b> float64</label>"
            ]
          },
          "metadata": {},
          "execution_count": 19
        }
      ]
    },
    {
      "cell_type": "code",
      "source": [
        "target = \"Outcome\"\n",
        "X, y = df.drop(columns=[target, 'DiabetesPedigreeFunction']), df[target]\n",
        "X_train, X_test, y_train, y_test = model_selection.train_test_split(X, y, random_state=999)\n",
        "clf_tree = tree.DecisionTreeClassifier(random_state=1, min_samples_leaf=20) # max_depth=6\n",
        "clf_tree.fit(X_train, y_train)\n",
        "clf_tree.score(X_train, y_train), clf_tree.score(X_test, y_test)"
      ],
      "metadata": {
        "colab": {
          "base_uri": "https://localhost:8080/"
        },
        "id": "iRO9sOVCEMnO",
        "outputId": "4b14edb3-3af6-4e58-8daf-1603b11375e1"
      },
      "execution_count": 20,
      "outputs": [
        {
          "output_type": "execute_result",
          "data": {
            "text/plain": [
              "(0.8142076502732241, 0.7391304347826086)"
            ]
          },
          "metadata": {},
          "execution_count": 20
        }
      ]
    },
    {
      "cell_type": "code",
      "source": [
        "import graphviz"
      ],
      "metadata": {
        "id": "IJEchJUvIxuN"
      },
      "execution_count": 21,
      "outputs": []
    },
    {
      "cell_type": "code",
      "source": [
        "classes_ = [str(item) for item in clf_tree.classes_]\n",
        "classes_"
      ],
      "metadata": {
        "colab": {
          "base_uri": "https://localhost:8080/"
        },
        "id": "ccXPONn_KJu1",
        "outputId": "512e8561-f816-4c84-9cf9-bfde8c43296d"
      },
      "execution_count": 22,
      "outputs": [
        {
          "output_type": "execute_result",
          "data": {
            "text/plain": [
              "['0', '1']"
            ]
          },
          "metadata": {},
          "execution_count": 22
        }
      ]
    },
    {
      "cell_type": "code",
      "source": [
        "dot_data = tree.export_graphviz(clf_tree, out_file=None,\n",
        "                     feature_names=X.columns,\n",
        "                     class_names=classes_,\n",
        "                     filled=True, rounded=True,\n",
        "                     special_characters=True)\n",
        "graph = graphviz.Source(dot_data)\n",
        "graph.render(\"drzewo_cukrzyca\")\n",
        "graph"
      ],
      "metadata": {
        "colab": {
          "base_uri": "https://localhost:8080/",
          "height": 1000
        },
        "id": "RXHK7hy2I3jx",
        "outputId": "8acc82e9-d55b-4054-e4d3-05a1d9da38f7"
      },
      "execution_count": 23,
      "outputs": [
        {
          "output_type": "execute_result",
          "data": {
            "image/svg+xml": "<?xml version=\"1.0\" encoding=\"UTF-8\" standalone=\"no\"?>\n<!DOCTYPE svg PUBLIC \"-//W3C//DTD SVG 1.1//EN\"\n \"http://www.w3.org/Graphics/SVG/1.1/DTD/svg11.dtd\">\n<!-- Generated by graphviz version 2.43.0 (0)\n -->\n<!-- Title: Tree Pages: 1 -->\n<svg width=\"1206pt\" height=\"909pt\"\n viewBox=\"0.00 0.00 1206.00 909.00\" xmlns=\"http://www.w3.org/2000/svg\" xmlns:xlink=\"http://www.w3.org/1999/xlink\">\n<g id=\"graph0\" class=\"graph\" transform=\"scale(1 1) rotate(0) translate(4 905)\">\n<title>Tree</title>\n<polygon fill=\"white\" stroke=\"transparent\" points=\"-4,4 -4,-905 1202,-905 1202,4 -4,4\"/>\n<!-- 0 -->\n<g id=\"node1\" class=\"node\">\n<title>0</title>\n<path fill=\"#f3c4a3\" stroke=\"black\" d=\"M685.5,-901C685.5,-901 584.5,-901 584.5,-901 578.5,-901 572.5,-895 572.5,-889 572.5,-889 572.5,-830 572.5,-830 572.5,-824 578.5,-818 584.5,-818 584.5,-818 685.5,-818 685.5,-818 691.5,-818 697.5,-824 697.5,-830 697.5,-830 697.5,-889 697.5,-889 697.5,-895 691.5,-901 685.5,-901\"/>\n<text text-anchor=\"start\" x=\"585\" y=\"-885.8\" font-family=\"Helvetica,sans-Serif\" font-size=\"14.00\">Glucose ≤ 142.5</text>\n<text text-anchor=\"start\" x=\"599.5\" y=\"-870.8\" font-family=\"Helvetica,sans-Serif\" font-size=\"14.00\">gini = 0.454</text>\n<text text-anchor=\"start\" x=\"590\" y=\"-855.8\" font-family=\"Helvetica,sans-Serif\" font-size=\"14.00\">samples = 549</text>\n<text text-anchor=\"start\" x=\"580.5\" y=\"-840.8\" font-family=\"Helvetica,sans-Serif\" font-size=\"14.00\">value = [358, 191]</text>\n<text text-anchor=\"start\" x=\"607.5\" y=\"-825.8\" font-family=\"Helvetica,sans-Serif\" font-size=\"14.00\">class = 0</text>\n</g>\n<!-- 1 -->\n<g id=\"node2\" class=\"node\">\n<title>1</title>\n<path fill=\"#eda672\" stroke=\"black\" d=\"M543.5,-782C543.5,-782 450.5,-782 450.5,-782 444.5,-782 438.5,-776 438.5,-770 438.5,-770 438.5,-711 438.5,-711 438.5,-705 444.5,-699 450.5,-699 450.5,-699 543.5,-699 543.5,-699 549.5,-699 555.5,-705 555.5,-711 555.5,-711 555.5,-770 555.5,-770 555.5,-776 549.5,-782 543.5,-782\"/>\n<text text-anchor=\"start\" x=\"447\" y=\"-766.8\" font-family=\"Helvetica,sans-Serif\" font-size=\"14.00\">Glucose ≤ 103.5</text>\n<text text-anchor=\"start\" x=\"461.5\" y=\"-751.8\" font-family=\"Helvetica,sans-Serif\" font-size=\"14.00\">gini = 0.348</text>\n<text text-anchor=\"start\" x=\"452\" y=\"-736.8\" font-family=\"Helvetica,sans-Serif\" font-size=\"14.00\">samples = 414</text>\n<text text-anchor=\"start\" x=\"446.5\" y=\"-721.8\" font-family=\"Helvetica,sans-Serif\" font-size=\"14.00\">value = [321, 93]</text>\n<text text-anchor=\"start\" x=\"469.5\" y=\"-706.8\" font-family=\"Helvetica,sans-Serif\" font-size=\"14.00\">class = 0</text>\n</g>\n<!-- 0&#45;&gt;1 -->\n<g id=\"edge1\" class=\"edge\">\n<title>0&#45;&gt;1</title>\n<path fill=\"none\" stroke=\"black\" d=\"M587.12,-817.91C575.99,-808.47 564.05,-798.34 552.61,-788.65\"/>\n<polygon fill=\"black\" stroke=\"black\" points=\"554.68,-785.82 544.79,-782.02 550.16,-791.16 554.68,-785.82\"/>\n<text text-anchor=\"middle\" x=\"546.85\" y=\"-803.24\" font-family=\"Helvetica,sans-Serif\" font-size=\"14.00\">True</text>\n</g>\n<!-- 28 -->\n<g id=\"node29\" class=\"node\">\n<title>28</title>\n<path fill=\"#84c2ef\" stroke=\"black\" d=\"M807,-782C807,-782 715,-782 715,-782 709,-782 703,-776 703,-770 703,-770 703,-711 703,-711 703,-705 709,-699 715,-699 715,-699 807,-699 807,-699 813,-699 819,-705 819,-711 819,-711 819,-770 819,-770 819,-776 813,-782 807,-782\"/>\n<text text-anchor=\"start\" x=\"711\" y=\"-766.8\" font-family=\"Helvetica,sans-Serif\" font-size=\"14.00\">Glucose ≤ 154.5</text>\n<text text-anchor=\"start\" x=\"725.5\" y=\"-751.8\" font-family=\"Helvetica,sans-Serif\" font-size=\"14.00\">gini = 0.398</text>\n<text text-anchor=\"start\" x=\"716\" y=\"-736.8\" font-family=\"Helvetica,sans-Serif\" font-size=\"14.00\">samples = 135</text>\n<text text-anchor=\"start\" x=\"714\" y=\"-721.8\" font-family=\"Helvetica,sans-Serif\" font-size=\"14.00\">value = [37, 98]</text>\n<text text-anchor=\"start\" x=\"733.5\" y=\"-706.8\" font-family=\"Helvetica,sans-Serif\" font-size=\"14.00\">class = 1</text>\n</g>\n<!-- 0&#45;&gt;28 -->\n<g id=\"edge28\" class=\"edge\">\n<title>0&#45;&gt;28</title>\n<path fill=\"none\" stroke=\"black\" d=\"M678.72,-817.91C688.78,-808.56 699.57,-798.54 709.92,-788.93\"/>\n<polygon fill=\"black\" stroke=\"black\" points=\"712.42,-791.39 717.36,-782.02 707.65,-786.26 712.42,-791.39\"/>\n<text text-anchor=\"middle\" x=\"716.44\" y=\"-803.3\" font-family=\"Helvetica,sans-Serif\" font-size=\"14.00\">False</text>\n</g>\n<!-- 2 -->\n<g id=\"node3\" class=\"node\">\n<title>2</title>\n<path fill=\"#e78d4c\" stroke=\"black\" d=\"M332.5,-663C332.5,-663 239.5,-663 239.5,-663 233.5,-663 227.5,-657 227.5,-651 227.5,-651 227.5,-592 227.5,-592 227.5,-586 233.5,-580 239.5,-580 239.5,-580 332.5,-580 332.5,-580 338.5,-580 344.5,-586 344.5,-592 344.5,-592 344.5,-651 344.5,-651 344.5,-657 338.5,-663 332.5,-663\"/>\n<text text-anchor=\"start\" x=\"252.5\" y=\"-647.8\" font-family=\"Helvetica,sans-Serif\" font-size=\"14.00\">BMI ≤ 39.3</text>\n<text text-anchor=\"start\" x=\"250.5\" y=\"-632.8\" font-family=\"Helvetica,sans-Serif\" font-size=\"14.00\">gini = 0.158</text>\n<text text-anchor=\"start\" x=\"241\" y=\"-617.8\" font-family=\"Helvetica,sans-Serif\" font-size=\"14.00\">samples = 174</text>\n<text text-anchor=\"start\" x=\"235.5\" y=\"-602.8\" font-family=\"Helvetica,sans-Serif\" font-size=\"14.00\">value = [159, 15]</text>\n<text text-anchor=\"start\" x=\"258.5\" y=\"-587.8\" font-family=\"Helvetica,sans-Serif\" font-size=\"14.00\">class = 0</text>\n</g>\n<!-- 1&#45;&gt;2 -->\n<g id=\"edge2\" class=\"edge\">\n<title>1&#45;&gt;2</title>\n<path fill=\"none\" stroke=\"black\" d=\"M438.22,-706.91C412.04,-692.39 381.05,-675.2 353.88,-660.14\"/>\n<polygon fill=\"black\" stroke=\"black\" points=\"355.27,-656.91 344.83,-655.12 351.87,-663.03 355.27,-656.91\"/>\n</g>\n<!-- 11 -->\n<g id=\"node12\" class=\"node\">\n<title>11</title>\n<path fill=\"#f2be98\" stroke=\"black\" d=\"M543.5,-663C543.5,-663 450.5,-663 450.5,-663 444.5,-663 438.5,-657 438.5,-651 438.5,-651 438.5,-592 438.5,-592 438.5,-586 444.5,-580 450.5,-580 450.5,-580 543.5,-580 543.5,-580 549.5,-580 555.5,-586 555.5,-592 555.5,-592 555.5,-651 555.5,-651 555.5,-657 549.5,-663 543.5,-663\"/>\n<text text-anchor=\"start\" x=\"460\" y=\"-647.8\" font-family=\"Helvetica,sans-Serif\" font-size=\"14.00\">BMI ≤ 26.35</text>\n<text text-anchor=\"start\" x=\"461.5\" y=\"-632.8\" font-family=\"Helvetica,sans-Serif\" font-size=\"14.00\">gini = 0.439</text>\n<text text-anchor=\"start\" x=\"452\" y=\"-617.8\" font-family=\"Helvetica,sans-Serif\" font-size=\"14.00\">samples = 240</text>\n<text text-anchor=\"start\" x=\"446.5\" y=\"-602.8\" font-family=\"Helvetica,sans-Serif\" font-size=\"14.00\">value = [162, 78]</text>\n<text text-anchor=\"start\" x=\"469.5\" y=\"-587.8\" font-family=\"Helvetica,sans-Serif\" font-size=\"14.00\">class = 0</text>\n</g>\n<!-- 1&#45;&gt;11 -->\n<g id=\"edge11\" class=\"edge\">\n<title>1&#45;&gt;11</title>\n<path fill=\"none\" stroke=\"black\" d=\"M497,-698.91C497,-690.65 497,-681.86 497,-673.3\"/>\n<polygon fill=\"black\" stroke=\"black\" points=\"500.5,-673.02 497,-663.02 493.5,-673.02 500.5,-673.02\"/>\n</g>\n<!-- 3 -->\n<g id=\"node4\" class=\"node\">\n<title>3</title>\n<path fill=\"#e68844\" stroke=\"black\" d=\"M205,-544C205,-544 119,-544 119,-544 113,-544 107,-538 107,-532 107,-532 107,-473 107,-473 107,-467 113,-461 119,-461 119,-461 205,-461 205,-461 211,-461 217,-467 217,-473 217,-473 217,-532 217,-532 217,-538 211,-544 205,-544\"/>\n<text text-anchor=\"start\" x=\"125\" y=\"-528.8\" font-family=\"Helvetica,sans-Serif\" font-size=\"14.00\">BMI ≤ 28.85</text>\n<text text-anchor=\"start\" x=\"134\" y=\"-513.8\" font-family=\"Helvetica,sans-Serif\" font-size=\"14.00\">gini = 0.1</text>\n<text text-anchor=\"start\" x=\"117\" y=\"-498.8\" font-family=\"Helvetica,sans-Serif\" font-size=\"14.00\">samples = 151</text>\n<text text-anchor=\"start\" x=\"115\" y=\"-483.8\" font-family=\"Helvetica,sans-Serif\" font-size=\"14.00\">value = [143, 8]</text>\n<text text-anchor=\"start\" x=\"134.5\" y=\"-468.8\" font-family=\"Helvetica,sans-Serif\" font-size=\"14.00\">class = 0</text>\n</g>\n<!-- 2&#45;&gt;3 -->\n<g id=\"edge3\" class=\"edge\">\n<title>2&#45;&gt;3</title>\n<path fill=\"none\" stroke=\"black\" d=\"M242.98,-579.91C233.07,-570.56 222.45,-560.54 212.27,-550.93\"/>\n<polygon fill=\"black\" stroke=\"black\" points=\"214.62,-548.34 204.95,-544.02 209.82,-553.43 214.62,-548.34\"/>\n</g>\n<!-- 10 -->\n<g id=\"node11\" class=\"node\">\n<title>10</title>\n<path fill=\"#f0b890\" stroke=\"black\" d=\"M325,-536.5C325,-536.5 247,-536.5 247,-536.5 241,-536.5 235,-530.5 235,-524.5 235,-524.5 235,-480.5 235,-480.5 235,-474.5 241,-468.5 247,-468.5 247,-468.5 325,-468.5 325,-468.5 331,-468.5 337,-474.5 337,-480.5 337,-480.5 337,-524.5 337,-524.5 337,-530.5 331,-536.5 325,-536.5\"/>\n<text text-anchor=\"start\" x=\"250.5\" y=\"-521.3\" font-family=\"Helvetica,sans-Serif\" font-size=\"14.00\">gini = 0.423</text>\n<text text-anchor=\"start\" x=\"245\" y=\"-506.3\" font-family=\"Helvetica,sans-Serif\" font-size=\"14.00\">samples = 23</text>\n<text text-anchor=\"start\" x=\"243\" y=\"-491.3\" font-family=\"Helvetica,sans-Serif\" font-size=\"14.00\">value = [16, 7]</text>\n<text text-anchor=\"start\" x=\"258.5\" y=\"-476.3\" font-family=\"Helvetica,sans-Serif\" font-size=\"14.00\">class = 0</text>\n</g>\n<!-- 2&#45;&gt;10 -->\n<g id=\"edge10\" class=\"edge\">\n<title>2&#45;&gt;10</title>\n<path fill=\"none\" stroke=\"black\" d=\"M286,-579.91C286,-569.2 286,-557.62 286,-546.78\"/>\n<polygon fill=\"black\" stroke=\"black\" points=\"289.5,-546.67 286,-536.67 282.5,-546.67 289.5,-546.67\"/>\n</g>\n<!-- 4 -->\n<g id=\"node5\" class=\"node\">\n<title>4</title>\n<path fill=\"#e58139\" stroke=\"black\" d=\"M90,-417.5C90,-417.5 12,-417.5 12,-417.5 6,-417.5 0,-411.5 0,-405.5 0,-405.5 0,-361.5 0,-361.5 0,-355.5 6,-349.5 12,-349.5 12,-349.5 90,-349.5 90,-349.5 96,-349.5 102,-355.5 102,-361.5 102,-361.5 102,-405.5 102,-405.5 102,-411.5 96,-417.5 90,-417.5\"/>\n<text text-anchor=\"start\" x=\"23\" y=\"-402.3\" font-family=\"Helvetica,sans-Serif\" font-size=\"14.00\">gini = 0.0</text>\n<text text-anchor=\"start\" x=\"10\" y=\"-387.3\" font-family=\"Helvetica,sans-Serif\" font-size=\"14.00\">samples = 72</text>\n<text text-anchor=\"start\" x=\"8\" y=\"-372.3\" font-family=\"Helvetica,sans-Serif\" font-size=\"14.00\">value = [72, 0]</text>\n<text text-anchor=\"start\" x=\"23.5\" y=\"-357.3\" font-family=\"Helvetica,sans-Serif\" font-size=\"14.00\">class = 0</text>\n</g>\n<!-- 3&#45;&gt;4 -->\n<g id=\"edge4\" class=\"edge\">\n<title>3&#45;&gt;4</title>\n<path fill=\"none\" stroke=\"black\" d=\"M123.49,-460.91C112.5,-449.32 100.52,-436.7 89.53,-425.11\"/>\n<polygon fill=\"black\" stroke=\"black\" points=\"91.89,-422.51 82.47,-417.67 86.81,-427.33 91.89,-422.51\"/>\n</g>\n<!-- 5 -->\n<g id=\"node6\" class=\"node\">\n<title>5</title>\n<path fill=\"#e88f4f\" stroke=\"black\" d=\"M210,-425C210,-425 132,-425 132,-425 126,-425 120,-419 120,-413 120,-413 120,-354 120,-354 120,-348 126,-342 132,-342 132,-342 210,-342 210,-342 216,-342 222,-348 222,-354 222,-354 222,-413 222,-413 222,-419 216,-425 210,-425\"/>\n<text text-anchor=\"start\" x=\"138\" y=\"-409.8\" font-family=\"Helvetica,sans-Serif\" font-size=\"14.00\">Age ≤ 23.5</text>\n<text text-anchor=\"start\" x=\"135.5\" y=\"-394.8\" font-family=\"Helvetica,sans-Serif\" font-size=\"14.00\">gini = 0.182</text>\n<text text-anchor=\"start\" x=\"130\" y=\"-379.8\" font-family=\"Helvetica,sans-Serif\" font-size=\"14.00\">samples = 79</text>\n<text text-anchor=\"start\" x=\"128\" y=\"-364.8\" font-family=\"Helvetica,sans-Serif\" font-size=\"14.00\">value = [71, 8]</text>\n<text text-anchor=\"start\" x=\"143.5\" y=\"-349.8\" font-family=\"Helvetica,sans-Serif\" font-size=\"14.00\">class = 0</text>\n</g>\n<!-- 3&#45;&gt;5 -->\n<g id=\"edge5\" class=\"edge\">\n<title>3&#45;&gt;5</title>\n<path fill=\"none\" stroke=\"black\" d=\"M165.12,-460.91C165.76,-452.56 166.45,-443.67 167.11,-435.02\"/>\n<polygon fill=\"black\" stroke=\"black\" points=\"170.61,-435.26 167.88,-425.02 163.63,-434.72 170.61,-435.26\"/>\n</g>\n<!-- 6 -->\n<g id=\"node7\" class=\"node\">\n<title>6</title>\n<path fill=\"#e58139\" stroke=\"black\" d=\"M118,-298.5C118,-298.5 40,-298.5 40,-298.5 34,-298.5 28,-292.5 28,-286.5 28,-286.5 28,-242.5 28,-242.5 28,-236.5 34,-230.5 40,-230.5 40,-230.5 118,-230.5 118,-230.5 124,-230.5 130,-236.5 130,-242.5 130,-242.5 130,-286.5 130,-286.5 130,-292.5 124,-298.5 118,-298.5\"/>\n<text text-anchor=\"start\" x=\"51\" y=\"-283.3\" font-family=\"Helvetica,sans-Serif\" font-size=\"14.00\">gini = 0.0</text>\n<text text-anchor=\"start\" x=\"38\" y=\"-268.3\" font-family=\"Helvetica,sans-Serif\" font-size=\"14.00\">samples = 20</text>\n<text text-anchor=\"start\" x=\"36\" y=\"-253.3\" font-family=\"Helvetica,sans-Serif\" font-size=\"14.00\">value = [20, 0]</text>\n<text text-anchor=\"start\" x=\"51.5\" y=\"-238.3\" font-family=\"Helvetica,sans-Serif\" font-size=\"14.00\">class = 0</text>\n</g>\n<!-- 5&#45;&gt;6 -->\n<g id=\"edge6\" class=\"edge\">\n<title>5&#45;&gt;6</title>\n<path fill=\"none\" stroke=\"black\" d=\"M139.08,-341.91C130.14,-330.54 120.42,-318.18 111.45,-306.77\"/>\n<polygon fill=\"black\" stroke=\"black\" points=\"114.01,-304.36 105.08,-298.67 108.51,-308.69 114.01,-304.36\"/>\n</g>\n<!-- 7 -->\n<g id=\"node8\" class=\"node\">\n<title>7</title>\n<path fill=\"#e99558\" stroke=\"black\" d=\"M244,-306C244,-306 160,-306 160,-306 154,-306 148,-300 148,-294 148,-294 148,-235 148,-235 148,-229 154,-223 160,-223 160,-223 244,-223 244,-223 250,-223 256,-229 256,-235 256,-235 256,-294 256,-294 256,-300 250,-306 244,-306\"/>\n<text text-anchor=\"start\" x=\"156\" y=\"-290.8\" font-family=\"Helvetica,sans-Serif\" font-size=\"14.00\">Glucose ≤ 97.5</text>\n<text text-anchor=\"start\" x=\"166.5\" y=\"-275.8\" font-family=\"Helvetica,sans-Serif\" font-size=\"14.00\">gini = 0.234</text>\n<text text-anchor=\"start\" x=\"161\" y=\"-260.8\" font-family=\"Helvetica,sans-Serif\" font-size=\"14.00\">samples = 59</text>\n<text text-anchor=\"start\" x=\"159\" y=\"-245.8\" font-family=\"Helvetica,sans-Serif\" font-size=\"14.00\">value = [51, 8]</text>\n<text text-anchor=\"start\" x=\"174.5\" y=\"-230.8\" font-family=\"Helvetica,sans-Serif\" font-size=\"14.00\">class = 0</text>\n</g>\n<!-- 5&#45;&gt;7 -->\n<g id=\"edge7\" class=\"edge\">\n<title>5&#45;&gt;7</title>\n<path fill=\"none\" stroke=\"black\" d=\"M181.76,-341.91C183.99,-333.47 186.37,-324.48 188.69,-315.74\"/>\n<polygon fill=\"black\" stroke=\"black\" points=\"192.09,-316.58 191.26,-306.02 185.32,-314.79 192.09,-316.58\"/>\n</g>\n<!-- 8 -->\n<g id=\"node9\" class=\"node\">\n<title>8</title>\n<path fill=\"#eb9d64\" stroke=\"black\" d=\"M184,-179.5C184,-179.5 106,-179.5 106,-179.5 100,-179.5 94,-173.5 94,-167.5 94,-167.5 94,-123.5 94,-123.5 94,-117.5 100,-111.5 106,-111.5 106,-111.5 184,-111.5 184,-111.5 190,-111.5 196,-117.5 196,-123.5 196,-123.5 196,-167.5 196,-167.5 196,-173.5 190,-179.5 184,-179.5\"/>\n<text text-anchor=\"start\" x=\"109.5\" y=\"-164.3\" font-family=\"Helvetica,sans-Serif\" font-size=\"14.00\">gini = 0.295</text>\n<text text-anchor=\"start\" x=\"104\" y=\"-149.3\" font-family=\"Helvetica,sans-Serif\" font-size=\"14.00\">samples = 39</text>\n<text text-anchor=\"start\" x=\"102\" y=\"-134.3\" font-family=\"Helvetica,sans-Serif\" font-size=\"14.00\">value = [32, 7]</text>\n<text text-anchor=\"start\" x=\"117.5\" y=\"-119.3\" font-family=\"Helvetica,sans-Serif\" font-size=\"14.00\">class = 0</text>\n</g>\n<!-- 7&#45;&gt;8 -->\n<g id=\"edge8\" class=\"edge\">\n<title>7&#45;&gt;8</title>\n<path fill=\"none\" stroke=\"black\" d=\"M182.22,-222.91C176.85,-211.87 171.01,-199.9 165.59,-188.77\"/>\n<polygon fill=\"black\" stroke=\"black\" points=\"168.68,-187.12 161.16,-179.67 162.39,-190.19 168.68,-187.12\"/>\n</g>\n<!-- 9 -->\n<g id=\"node10\" class=\"node\">\n<title>9</title>\n<path fill=\"#e68843\" stroke=\"black\" d=\"M304,-179.5C304,-179.5 226,-179.5 226,-179.5 220,-179.5 214,-173.5 214,-167.5 214,-167.5 214,-123.5 214,-123.5 214,-117.5 220,-111.5 226,-111.5 226,-111.5 304,-111.5 304,-111.5 310,-111.5 316,-117.5 316,-123.5 316,-123.5 316,-167.5 316,-167.5 316,-173.5 310,-179.5 304,-179.5\"/>\n<text text-anchor=\"start\" x=\"229.5\" y=\"-164.3\" font-family=\"Helvetica,sans-Serif\" font-size=\"14.00\">gini = 0.095</text>\n<text text-anchor=\"start\" x=\"224\" y=\"-149.3\" font-family=\"Helvetica,sans-Serif\" font-size=\"14.00\">samples = 20</text>\n<text text-anchor=\"start\" x=\"222\" y=\"-134.3\" font-family=\"Helvetica,sans-Serif\" font-size=\"14.00\">value = [19, 1]</text>\n<text text-anchor=\"start\" x=\"237.5\" y=\"-119.3\" font-family=\"Helvetica,sans-Serif\" font-size=\"14.00\">class = 0</text>\n</g>\n<!-- 7&#45;&gt;9 -->\n<g id=\"edge9\" class=\"edge\">\n<title>7&#45;&gt;9</title>\n<path fill=\"none\" stroke=\"black\" d=\"M223.86,-222.91C229.8,-211.87 236.25,-199.9 242.24,-188.77\"/>\n<polygon fill=\"black\" stroke=\"black\" points=\"245.48,-190.13 247.14,-179.67 239.32,-186.81 245.48,-190.13\"/>\n</g>\n<!-- 12 -->\n<g id=\"node13\" class=\"node\">\n<title>12</title>\n<path fill=\"#e68743\" stroke=\"black\" d=\"M488.5,-544C488.5,-544 367.5,-544 367.5,-544 361.5,-544 355.5,-538 355.5,-532 355.5,-532 355.5,-473 355.5,-473 355.5,-467 361.5,-461 367.5,-461 367.5,-461 488.5,-461 488.5,-461 494.5,-461 500.5,-467 500.5,-473 500.5,-473 500.5,-532 500.5,-532 500.5,-538 494.5,-544 488.5,-544\"/>\n<text text-anchor=\"start\" x=\"363.5\" y=\"-528.8\" font-family=\"Helvetica,sans-Serif\" font-size=\"14.00\">SkinThickness ≤ 10.0</text>\n<text text-anchor=\"start\" x=\"392.5\" y=\"-513.8\" font-family=\"Helvetica,sans-Serif\" font-size=\"14.00\">gini = 0.093</text>\n<text text-anchor=\"start\" x=\"387\" y=\"-498.8\" font-family=\"Helvetica,sans-Serif\" font-size=\"14.00\">samples = 41</text>\n<text text-anchor=\"start\" x=\"385\" y=\"-483.8\" font-family=\"Helvetica,sans-Serif\" font-size=\"14.00\">value = [39, 2]</text>\n<text text-anchor=\"start\" x=\"400.5\" y=\"-468.8\" font-family=\"Helvetica,sans-Serif\" font-size=\"14.00\">class = 0</text>\n</g>\n<!-- 11&#45;&gt;12 -->\n<g id=\"edge12\" class=\"edge\">\n<title>11&#45;&gt;12</title>\n<path fill=\"none\" stroke=\"black\" d=\"M473.06,-579.91C467.92,-571.2 462.44,-561.9 457.13,-552.89\"/>\n<polygon fill=\"black\" stroke=\"black\" points=\"459.99,-550.86 451.9,-544.02 453.96,-554.41 459.99,-550.86\"/>\n</g>\n<!-- 15 -->\n<g id=\"node16\" class=\"node\">\n<title>15</title>\n<path fill=\"#f5cfb3\" stroke=\"black\" d=\"M623.5,-544C623.5,-544 530.5,-544 530.5,-544 524.5,-544 518.5,-538 518.5,-532 518.5,-532 518.5,-473 518.5,-473 518.5,-467 524.5,-461 530.5,-461 530.5,-461 623.5,-461 623.5,-461 629.5,-461 635.5,-467 635.5,-473 635.5,-473 635.5,-532 635.5,-532 635.5,-538 629.5,-544 623.5,-544\"/>\n<text text-anchor=\"start\" x=\"544\" y=\"-528.8\" font-family=\"Helvetica,sans-Serif\" font-size=\"14.00\">Age ≤ 28.5</text>\n<text text-anchor=\"start\" x=\"541.5\" y=\"-513.8\" font-family=\"Helvetica,sans-Serif\" font-size=\"14.00\">gini = 0.472</text>\n<text text-anchor=\"start\" x=\"532\" y=\"-498.8\" font-family=\"Helvetica,sans-Serif\" font-size=\"14.00\">samples = 199</text>\n<text text-anchor=\"start\" x=\"526.5\" y=\"-483.8\" font-family=\"Helvetica,sans-Serif\" font-size=\"14.00\">value = [123, 76]</text>\n<text text-anchor=\"start\" x=\"549.5\" y=\"-468.8\" font-family=\"Helvetica,sans-Serif\" font-size=\"14.00\">class = 0</text>\n</g>\n<!-- 11&#45;&gt;15 -->\n<g id=\"edge15\" class=\"edge\">\n<title>11&#45;&gt;15</title>\n<path fill=\"none\" stroke=\"black\" d=\"M524.76,-579.91C530.84,-571.01 537.34,-561.51 543.61,-552.33\"/>\n<polygon fill=\"black\" stroke=\"black\" points=\"546.54,-554.25 549.29,-544.02 540.76,-550.3 546.54,-554.25\"/>\n</g>\n<!-- 13 -->\n<g id=\"node14\" class=\"node\">\n<title>13</title>\n<path fill=\"#e88f4f\" stroke=\"black\" d=\"M353,-417.5C353,-417.5 275,-417.5 275,-417.5 269,-417.5 263,-411.5 263,-405.5 263,-405.5 263,-361.5 263,-361.5 263,-355.5 269,-349.5 275,-349.5 275,-349.5 353,-349.5 353,-349.5 359,-349.5 365,-355.5 365,-361.5 365,-361.5 365,-405.5 365,-405.5 365,-411.5 359,-417.5 353,-417.5\"/>\n<text text-anchor=\"start\" x=\"282\" y=\"-402.3\" font-family=\"Helvetica,sans-Serif\" font-size=\"14.00\">gini = 0.18</text>\n<text text-anchor=\"start\" x=\"273\" y=\"-387.3\" font-family=\"Helvetica,sans-Serif\" font-size=\"14.00\">samples = 20</text>\n<text text-anchor=\"start\" x=\"271\" y=\"-372.3\" font-family=\"Helvetica,sans-Serif\" font-size=\"14.00\">value = [18, 2]</text>\n<text text-anchor=\"start\" x=\"286.5\" y=\"-357.3\" font-family=\"Helvetica,sans-Serif\" font-size=\"14.00\">class = 0</text>\n</g>\n<!-- 12&#45;&gt;13 -->\n<g id=\"edge13\" class=\"edge\">\n<title>12&#45;&gt;13</title>\n<path fill=\"none\" stroke=\"black\" d=\"M388.45,-460.91C377.16,-449.32 364.86,-436.7 353.57,-425.11\"/>\n<polygon fill=\"black\" stroke=\"black\" points=\"355.8,-422.39 346.32,-417.67 350.79,-427.27 355.8,-422.39\"/>\n</g>\n<!-- 14 -->\n<g id=\"node15\" class=\"node\">\n<title>14</title>\n<path fill=\"#e58139\" stroke=\"black\" d=\"M473,-417.5C473,-417.5 395,-417.5 395,-417.5 389,-417.5 383,-411.5 383,-405.5 383,-405.5 383,-361.5 383,-361.5 383,-355.5 389,-349.5 395,-349.5 395,-349.5 473,-349.5 473,-349.5 479,-349.5 485,-355.5 485,-361.5 485,-361.5 485,-405.5 485,-405.5 485,-411.5 479,-417.5 473,-417.5\"/>\n<text text-anchor=\"start\" x=\"406\" y=\"-402.3\" font-family=\"Helvetica,sans-Serif\" font-size=\"14.00\">gini = 0.0</text>\n<text text-anchor=\"start\" x=\"393\" y=\"-387.3\" font-family=\"Helvetica,sans-Serif\" font-size=\"14.00\">samples = 21</text>\n<text text-anchor=\"start\" x=\"391\" y=\"-372.3\" font-family=\"Helvetica,sans-Serif\" font-size=\"14.00\">value = [21, 0]</text>\n<text text-anchor=\"start\" x=\"406.5\" y=\"-357.3\" font-family=\"Helvetica,sans-Serif\" font-size=\"14.00\">class = 0</text>\n</g>\n<!-- 12&#45;&gt;14 -->\n<g id=\"edge14\" class=\"edge\">\n<title>12&#45;&gt;14</title>\n<path fill=\"none\" stroke=\"black\" d=\"M430.08,-460.91C430.63,-450.2 431.22,-438.62 431.78,-427.78\"/>\n<polygon fill=\"black\" stroke=\"black\" points=\"435.28,-427.83 432.3,-417.67 428.29,-427.47 435.28,-427.83\"/>\n</g>\n<!-- 16 -->\n<g id=\"node17\" class=\"node\">\n<title>16</title>\n<path fill=\"#eda876\" stroke=\"black\" d=\"M618,-425C618,-425 526,-425 526,-425 520,-425 514,-419 514,-413 514,-413 514,-354 514,-354 514,-348 520,-342 526,-342 526,-342 618,-342 618,-342 624,-342 630,-348 630,-354 630,-354 630,-413 630,-413 630,-419 624,-425 618,-425\"/>\n<text text-anchor=\"start\" x=\"522\" y=\"-409.8\" font-family=\"Helvetica,sans-Serif\" font-size=\"14.00\">Glucose ≤ 127.5</text>\n<text text-anchor=\"start\" x=\"536.5\" y=\"-394.8\" font-family=\"Helvetica,sans-Serif\" font-size=\"14.00\">gini = 0.361</text>\n<text text-anchor=\"start\" x=\"531\" y=\"-379.8\" font-family=\"Helvetica,sans-Serif\" font-size=\"14.00\">samples = 93</text>\n<text text-anchor=\"start\" x=\"525\" y=\"-364.8\" font-family=\"Helvetica,sans-Serif\" font-size=\"14.00\">value = [71, 22]</text>\n<text text-anchor=\"start\" x=\"544.5\" y=\"-349.8\" font-family=\"Helvetica,sans-Serif\" font-size=\"14.00\">class = 0</text>\n</g>\n<!-- 15&#45;&gt;16 -->\n<g id=\"edge16\" class=\"edge\">\n<title>15&#45;&gt;16</title>\n<path fill=\"none\" stroke=\"black\" d=\"M575.27,-460.91C574.91,-452.56 574.53,-443.67 574.16,-435.02\"/>\n<polygon fill=\"black\" stroke=\"black\" points=\"577.66,-434.86 573.73,-425.02 570.66,-435.16 577.66,-434.86\"/>\n</g>\n<!-- 21 -->\n<g id=\"node22\" class=\"node\">\n<title>21</title>\n<path fill=\"#f8fbfe\" stroke=\"black\" d=\"M782,-425C782,-425 660,-425 660,-425 654,-425 648,-419 648,-413 648,-413 648,-354 648,-354 648,-348 654,-342 660,-342 660,-342 782,-342 782,-342 788,-342 794,-348 794,-354 794,-354 794,-413 794,-413 794,-419 788,-425 782,-425\"/>\n<text text-anchor=\"start\" x=\"656\" y=\"-409.8\" font-family=\"Helvetica,sans-Serif\" font-size=\"14.00\">BloodPressure ≤ 84.5</text>\n<text text-anchor=\"start\" x=\"693\" y=\"-394.8\" font-family=\"Helvetica,sans-Serif\" font-size=\"14.00\">gini = 0.5</text>\n<text text-anchor=\"start\" x=\"676\" y=\"-379.8\" font-family=\"Helvetica,sans-Serif\" font-size=\"14.00\">samples = 106</text>\n<text text-anchor=\"start\" x=\"674\" y=\"-364.8\" font-family=\"Helvetica,sans-Serif\" font-size=\"14.00\">value = [52, 54]</text>\n<text text-anchor=\"start\" x=\"693.5\" y=\"-349.8\" font-family=\"Helvetica,sans-Serif\" font-size=\"14.00\">class = 1</text>\n</g>\n<!-- 15&#45;&gt;21 -->\n<g id=\"edge21\" class=\"edge\">\n<title>15&#45;&gt;21</title>\n<path fill=\"none\" stroke=\"black\" d=\"M626.96,-460.91C638.69,-451.38 651.28,-441.15 663.31,-431.37\"/>\n<polygon fill=\"black\" stroke=\"black\" points=\"665.57,-434.04 671.13,-425.02 661.16,-428.61 665.57,-434.04\"/>\n</g>\n<!-- 17 -->\n<g id=\"node18\" class=\"node\">\n<title>17</title>\n<path fill=\"#ea985d\" stroke=\"black\" d=\"M493,-306C493,-306 401,-306 401,-306 395,-306 389,-300 389,-294 389,-294 389,-235 389,-235 389,-229 395,-223 401,-223 401,-223 493,-223 493,-223 499,-223 505,-229 505,-235 505,-235 505,-294 505,-294 505,-300 499,-306 493,-306\"/>\n<text text-anchor=\"start\" x=\"397\" y=\"-290.8\" font-family=\"Helvetica,sans-Serif\" font-size=\"14.00\">Glucose ≤ 115.5</text>\n<text text-anchor=\"start\" x=\"415\" y=\"-275.8\" font-family=\"Helvetica,sans-Serif\" font-size=\"14.00\">gini = 0.26</text>\n<text text-anchor=\"start\" x=\"406\" y=\"-260.8\" font-family=\"Helvetica,sans-Serif\" font-size=\"14.00\">samples = 65</text>\n<text text-anchor=\"start\" x=\"400\" y=\"-245.8\" font-family=\"Helvetica,sans-Serif\" font-size=\"14.00\">value = [55, 10]</text>\n<text text-anchor=\"start\" x=\"419.5\" y=\"-230.8\" font-family=\"Helvetica,sans-Serif\" font-size=\"14.00\">class = 0</text>\n</g>\n<!-- 16&#45;&gt;17 -->\n<g id=\"edge17\" class=\"edge\">\n<title>16&#45;&gt;17</title>\n<path fill=\"none\" stroke=\"black\" d=\"M528.63,-341.91C518.65,-332.56 507.94,-322.54 497.67,-312.93\"/>\n<polygon fill=\"black\" stroke=\"black\" points=\"499.98,-310.3 490.29,-306.02 495.2,-315.41 499.98,-310.3\"/>\n</g>\n<!-- 20 -->\n<g id=\"node21\" class=\"node\">\n<title>20</title>\n<path fill=\"#f8e0ce\" stroke=\"black\" d=\"M621,-298.5C621,-298.5 535,-298.5 535,-298.5 529,-298.5 523,-292.5 523,-286.5 523,-286.5 523,-242.5 523,-242.5 523,-236.5 529,-230.5 535,-230.5 535,-230.5 621,-230.5 621,-230.5 627,-230.5 633,-236.5 633,-242.5 633,-242.5 633,-286.5 633,-286.5 633,-292.5 627,-298.5 621,-298.5\"/>\n<text text-anchor=\"start\" x=\"546\" y=\"-283.3\" font-family=\"Helvetica,sans-Serif\" font-size=\"14.00\">gini = 0.49</text>\n<text text-anchor=\"start\" x=\"537\" y=\"-268.3\" font-family=\"Helvetica,sans-Serif\" font-size=\"14.00\">samples = 28</text>\n<text text-anchor=\"start\" x=\"531\" y=\"-253.3\" font-family=\"Helvetica,sans-Serif\" font-size=\"14.00\">value = [16, 12]</text>\n<text text-anchor=\"start\" x=\"550.5\" y=\"-238.3\" font-family=\"Helvetica,sans-Serif\" font-size=\"14.00\">class = 0</text>\n</g>\n<!-- 16&#45;&gt;20 -->\n<g id=\"edge20\" class=\"edge\">\n<title>16&#45;&gt;20</title>\n<path fill=\"none\" stroke=\"black\" d=\"M574.08,-341.91C574.63,-331.2 575.22,-319.62 575.78,-308.78\"/>\n<polygon fill=\"black\" stroke=\"black\" points=\"579.28,-308.83 576.3,-298.67 572.29,-308.47 579.28,-308.83\"/>\n</g>\n<!-- 18 -->\n<g id=\"node19\" class=\"node\">\n<title>18</title>\n<path fill=\"#eca470\" stroke=\"black\" d=\"M456,-179.5C456,-179.5 378,-179.5 378,-179.5 372,-179.5 366,-173.5 366,-167.5 366,-167.5 366,-123.5 366,-123.5 366,-117.5 372,-111.5 378,-111.5 378,-111.5 456,-111.5 456,-111.5 462,-111.5 468,-117.5 468,-123.5 468,-123.5 468,-167.5 468,-167.5 468,-173.5 462,-179.5 456,-179.5\"/>\n<text text-anchor=\"start\" x=\"381.5\" y=\"-164.3\" font-family=\"Helvetica,sans-Serif\" font-size=\"14.00\">gini = 0.339</text>\n<text text-anchor=\"start\" x=\"376\" y=\"-149.3\" font-family=\"Helvetica,sans-Serif\" font-size=\"14.00\">samples = 37</text>\n<text text-anchor=\"start\" x=\"374\" y=\"-134.3\" font-family=\"Helvetica,sans-Serif\" font-size=\"14.00\">value = [29, 8]</text>\n<text text-anchor=\"start\" x=\"389.5\" y=\"-119.3\" font-family=\"Helvetica,sans-Serif\" font-size=\"14.00\">class = 0</text>\n</g>\n<!-- 17&#45;&gt;18 -->\n<g id=\"edge18\" class=\"edge\">\n<title>17&#45;&gt;18</title>\n<path fill=\"none\" stroke=\"black\" d=\"M436.59,-222.91C433.82,-212.09 430.81,-200.38 428.01,-189.44\"/>\n<polygon fill=\"black\" stroke=\"black\" points=\"431.38,-188.48 425.5,-179.67 424.6,-190.22 431.38,-188.48\"/>\n</g>\n<!-- 19 -->\n<g id=\"node20\" class=\"node\">\n<title>19</title>\n<path fill=\"#e78b48\" stroke=\"black\" d=\"M576,-179.5C576,-179.5 498,-179.5 498,-179.5 492,-179.5 486,-173.5 486,-167.5 486,-167.5 486,-123.5 486,-123.5 486,-117.5 492,-111.5 498,-111.5 498,-111.5 576,-111.5 576,-111.5 582,-111.5 588,-117.5 588,-123.5 588,-123.5 588,-167.5 588,-167.5 588,-173.5 582,-179.5 576,-179.5\"/>\n<text text-anchor=\"start\" x=\"501.5\" y=\"-164.3\" font-family=\"Helvetica,sans-Serif\" font-size=\"14.00\">gini = 0.133</text>\n<text text-anchor=\"start\" x=\"496\" y=\"-149.3\" font-family=\"Helvetica,sans-Serif\" font-size=\"14.00\">samples = 28</text>\n<text text-anchor=\"start\" x=\"494\" y=\"-134.3\" font-family=\"Helvetica,sans-Serif\" font-size=\"14.00\">value = [26, 2]</text>\n<text text-anchor=\"start\" x=\"509.5\" y=\"-119.3\" font-family=\"Helvetica,sans-Serif\" font-size=\"14.00\">class = 0</text>\n</g>\n<!-- 17&#45;&gt;19 -->\n<g id=\"edge19\" class=\"edge\">\n<title>17&#45;&gt;19</title>\n<path fill=\"none\" stroke=\"black\" d=\"M478.23,-222.91C486.97,-211.54 496.48,-199.18 505.25,-187.77\"/>\n<polygon fill=\"black\" stroke=\"black\" points=\"508.16,-189.73 511.49,-179.67 502.62,-185.46 508.16,-189.73\"/>\n</g>\n<!-- 22 -->\n<g id=\"node23\" class=\"node\">\n<title>22</title>\n<path fill=\"#cfe7f9\" stroke=\"black\" d=\"M754,-306C754,-306 668,-306 668,-306 662,-306 656,-300 656,-294 656,-294 656,-235 656,-235 656,-229 662,-223 668,-223 668,-223 754,-223 754,-223 760,-223 766,-229 766,-235 766,-235 766,-294 766,-294 766,-300 760,-306 754,-306\"/>\n<text text-anchor=\"start\" x=\"674\" y=\"-290.8\" font-family=\"Helvetica,sans-Serif\" font-size=\"14.00\">BMI ≤ 32.15</text>\n<text text-anchor=\"start\" x=\"679\" y=\"-275.8\" font-family=\"Helvetica,sans-Serif\" font-size=\"14.00\">gini = 0.49</text>\n<text text-anchor=\"start\" x=\"670\" y=\"-260.8\" font-family=\"Helvetica,sans-Serif\" font-size=\"14.00\">samples = 79</text>\n<text text-anchor=\"start\" x=\"664\" y=\"-245.8\" font-family=\"Helvetica,sans-Serif\" font-size=\"14.00\">value = [34, 45]</text>\n<text text-anchor=\"start\" x=\"683.5\" y=\"-230.8\" font-family=\"Helvetica,sans-Serif\" font-size=\"14.00\">class = 1</text>\n</g>\n<!-- 21&#45;&gt;22 -->\n<g id=\"edge22\" class=\"edge\">\n<title>21&#45;&gt;22</title>\n<path fill=\"none\" stroke=\"black\" d=\"M717.53,-341.91C716.82,-333.56 716.06,-324.67 715.32,-316.02\"/>\n<polygon fill=\"black\" stroke=\"black\" points=\"718.8,-315.69 714.46,-306.02 711.83,-316.28 718.8,-315.69\"/>\n</g>\n<!-- 27 -->\n<g id=\"node28\" class=\"node\">\n<title>27</title>\n<path fill=\"#f2c09c\" stroke=\"black\" d=\"M874,-298.5C874,-298.5 796,-298.5 796,-298.5 790,-298.5 784,-292.5 784,-286.5 784,-286.5 784,-242.5 784,-242.5 784,-236.5 790,-230.5 796,-230.5 796,-230.5 874,-230.5 874,-230.5 880,-230.5 886,-236.5 886,-242.5 886,-242.5 886,-286.5 886,-286.5 886,-292.5 880,-298.5 874,-298.5\"/>\n<text text-anchor=\"start\" x=\"799.5\" y=\"-283.3\" font-family=\"Helvetica,sans-Serif\" font-size=\"14.00\">gini = 0.444</text>\n<text text-anchor=\"start\" x=\"794\" y=\"-268.3\" font-family=\"Helvetica,sans-Serif\" font-size=\"14.00\">samples = 27</text>\n<text text-anchor=\"start\" x=\"792\" y=\"-253.3\" font-family=\"Helvetica,sans-Serif\" font-size=\"14.00\">value = [18, 9]</text>\n<text text-anchor=\"start\" x=\"807.5\" y=\"-238.3\" font-family=\"Helvetica,sans-Serif\" font-size=\"14.00\">class = 0</text>\n</g>\n<!-- 21&#45;&gt;27 -->\n<g id=\"edge27\" class=\"edge\">\n<title>21&#45;&gt;27</title>\n<path fill=\"none\" stroke=\"black\" d=\"M760.55,-341.91C771.84,-330.32 784.14,-317.7 795.43,-306.11\"/>\n<polygon fill=\"black\" stroke=\"black\" points=\"798.21,-308.27 802.68,-298.67 793.2,-303.39 798.21,-308.27\"/>\n</g>\n<!-- 23 -->\n<g id=\"node24\" class=\"node\">\n<title>23</title>\n<path fill=\"#f9e4d4\" stroke=\"black\" d=\"M734,-187C734,-187 642,-187 642,-187 636,-187 630,-181 630,-175 630,-175 630,-116 630,-116 630,-110 636,-104 642,-104 642,-104 734,-104 734,-104 740,-104 746,-110 746,-116 746,-116 746,-175 746,-175 746,-181 740,-187 734,-187\"/>\n<text text-anchor=\"start\" x=\"638\" y=\"-171.8\" font-family=\"Helvetica,sans-Serif\" font-size=\"14.00\">Glucose ≤ 119.5</text>\n<text text-anchor=\"start\" x=\"652.5\" y=\"-156.8\" font-family=\"Helvetica,sans-Serif\" font-size=\"14.00\">gini = 0.493</text>\n<text text-anchor=\"start\" x=\"647\" y=\"-141.8\" font-family=\"Helvetica,sans-Serif\" font-size=\"14.00\">samples = 41</text>\n<text text-anchor=\"start\" x=\"641\" y=\"-126.8\" font-family=\"Helvetica,sans-Serif\" font-size=\"14.00\">value = [23, 18]</text>\n<text text-anchor=\"start\" x=\"660.5\" y=\"-111.8\" font-family=\"Helvetica,sans-Serif\" font-size=\"14.00\">class = 0</text>\n</g>\n<!-- 22&#45;&gt;23 -->\n<g id=\"edge23\" class=\"edge\">\n<title>22&#45;&gt;23</title>\n<path fill=\"none\" stroke=\"black\" d=\"M703.02,-222.91C701.38,-214.56 699.63,-205.67 697.93,-197.02\"/>\n<polygon fill=\"black\" stroke=\"black\" points=\"701.33,-196.16 695.97,-187.02 694.46,-197.51 701.33,-196.16\"/>\n</g>\n<!-- 26 -->\n<g id=\"node27\" class=\"node\">\n<title>26</title>\n<path fill=\"#8ac5f0\" stroke=\"black\" d=\"M862,-179.5C862,-179.5 776,-179.5 776,-179.5 770,-179.5 764,-173.5 764,-167.5 764,-167.5 764,-123.5 764,-123.5 764,-117.5 770,-111.5 776,-111.5 776,-111.5 862,-111.5 862,-111.5 868,-111.5 874,-117.5 874,-123.5 874,-123.5 874,-167.5 874,-167.5 874,-173.5 868,-179.5 862,-179.5\"/>\n<text text-anchor=\"start\" x=\"783.5\" y=\"-164.3\" font-family=\"Helvetica,sans-Serif\" font-size=\"14.00\">gini = 0.411</text>\n<text text-anchor=\"start\" x=\"778\" y=\"-149.3\" font-family=\"Helvetica,sans-Serif\" font-size=\"14.00\">samples = 38</text>\n<text text-anchor=\"start\" x=\"772\" y=\"-134.3\" font-family=\"Helvetica,sans-Serif\" font-size=\"14.00\">value = [11, 27]</text>\n<text text-anchor=\"start\" x=\"791.5\" y=\"-119.3\" font-family=\"Helvetica,sans-Serif\" font-size=\"14.00\">class = 1</text>\n</g>\n<!-- 22&#45;&gt;26 -->\n<g id=\"edge26\" class=\"edge\">\n<title>22&#45;&gt;26</title>\n<path fill=\"none\" stroke=\"black\" d=\"M748.47,-222.91C759.17,-211.32 770.82,-198.7 781.51,-187.11\"/>\n<polygon fill=\"black\" stroke=\"black\" points=\"784.17,-189.39 788.38,-179.67 779.03,-184.64 784.17,-189.39\"/>\n</g>\n<!-- 24 -->\n<g id=\"node25\" class=\"node\">\n<title>24</title>\n<path fill=\"#a4d2f3\" stroke=\"black\" d=\"M667,-68C667,-68 589,-68 589,-68 583,-68 577,-62 577,-56 577,-56 577,-12 577,-12 577,-6 583,0 589,0 589,0 667,0 667,0 673,0 679,-6 679,-12 679,-12 679,-56 679,-56 679,-62 673,-68 667,-68\"/>\n<text text-anchor=\"start\" x=\"592.5\" y=\"-52.8\" font-family=\"Helvetica,sans-Serif\" font-size=\"14.00\">gini = 0.455</text>\n<text text-anchor=\"start\" x=\"587\" y=\"-37.8\" font-family=\"Helvetica,sans-Serif\" font-size=\"14.00\">samples = 20</text>\n<text text-anchor=\"start\" x=\"585\" y=\"-22.8\" font-family=\"Helvetica,sans-Serif\" font-size=\"14.00\">value = [7, 13]</text>\n<text text-anchor=\"start\" x=\"600.5\" y=\"-7.8\" font-family=\"Helvetica,sans-Serif\" font-size=\"14.00\">class = 1</text>\n</g>\n<!-- 23&#45;&gt;24 -->\n<g id=\"edge24\" class=\"edge\">\n<title>23&#45;&gt;24</title>\n<path fill=\"none\" stroke=\"black\" d=\"M665.66,-103.73C660.91,-95.06 655.89,-85.9 651.11,-77.18\"/>\n<polygon fill=\"black\" stroke=\"black\" points=\"654.12,-75.39 646.25,-68.3 647.98,-78.75 654.12,-75.39\"/>\n</g>\n<!-- 25 -->\n<g id=\"node26\" class=\"node\">\n<title>25</title>\n<path fill=\"#eda877\" stroke=\"black\" d=\"M787,-68C787,-68 709,-68 709,-68 703,-68 697,-62 697,-56 697,-56 697,-12 697,-12 697,-6 703,0 709,0 709,0 787,0 787,0 793,0 799,-6 799,-12 799,-12 799,-56 799,-56 799,-62 793,-68 787,-68\"/>\n<text text-anchor=\"start\" x=\"712.5\" y=\"-52.8\" font-family=\"Helvetica,sans-Serif\" font-size=\"14.00\">gini = 0.363</text>\n<text text-anchor=\"start\" x=\"707\" y=\"-37.8\" font-family=\"Helvetica,sans-Serif\" font-size=\"14.00\">samples = 21</text>\n<text text-anchor=\"start\" x=\"705\" y=\"-22.8\" font-family=\"Helvetica,sans-Serif\" font-size=\"14.00\">value = [16, 5]</text>\n<text text-anchor=\"start\" x=\"720.5\" y=\"-7.8\" font-family=\"Helvetica,sans-Serif\" font-size=\"14.00\">class = 0</text>\n</g>\n<!-- 23&#45;&gt;25 -->\n<g id=\"edge25\" class=\"edge\">\n<title>23&#45;&gt;25</title>\n<path fill=\"none\" stroke=\"black\" d=\"M710.34,-103.73C715.09,-95.06 720.11,-85.9 724.89,-77.18\"/>\n<polygon fill=\"black\" stroke=\"black\" points=\"728.02,-78.75 729.75,-68.3 721.88,-75.39 728.02,-78.75\"/>\n</g>\n<!-- 29 -->\n<g id=\"node30\" class=\"node\">\n<title>29</title>\n<path fill=\"#e5f2fc\" stroke=\"black\" d=\"M804,-663C804,-663 718,-663 718,-663 712,-663 706,-657 706,-651 706,-651 706,-592 706,-592 706,-586 712,-580 718,-580 718,-580 804,-580 804,-580 810,-580 816,-586 816,-592 816,-592 816,-651 816,-651 816,-657 810,-663 804,-663\"/>\n<text text-anchor=\"start\" x=\"728\" y=\"-647.8\" font-family=\"Helvetica,sans-Serif\" font-size=\"14.00\">Age ≤ 37.5</text>\n<text text-anchor=\"start\" x=\"725.5\" y=\"-632.8\" font-family=\"Helvetica,sans-Serif\" font-size=\"14.00\">gini = 0.498</text>\n<text text-anchor=\"start\" x=\"720\" y=\"-617.8\" font-family=\"Helvetica,sans-Serif\" font-size=\"14.00\">samples = 43</text>\n<text text-anchor=\"start\" x=\"714\" y=\"-602.8\" font-family=\"Helvetica,sans-Serif\" font-size=\"14.00\">value = [20, 23]</text>\n<text text-anchor=\"start\" x=\"733.5\" y=\"-587.8\" font-family=\"Helvetica,sans-Serif\" font-size=\"14.00\">class = 1</text>\n</g>\n<!-- 28&#45;&gt;29 -->\n<g id=\"edge29\" class=\"edge\">\n<title>28&#45;&gt;29</title>\n<path fill=\"none\" stroke=\"black\" d=\"M761,-698.91C761,-690.65 761,-681.86 761,-673.3\"/>\n<polygon fill=\"black\" stroke=\"black\" points=\"764.5,-673.02 761,-663.02 757.5,-673.02 764.5,-673.02\"/>\n</g>\n<!-- 32 -->\n<g id=\"node33\" class=\"node\">\n<title>32</title>\n<path fill=\"#66b3eb\" stroke=\"black\" d=\"M988,-663C988,-663 902,-663 902,-663 896,-663 890,-657 890,-651 890,-651 890,-592 890,-592 890,-586 896,-580 902,-580 902,-580 988,-580 988,-580 994,-580 1000,-586 1000,-592 1000,-592 1000,-651 1000,-651 1000,-657 994,-663 988,-663\"/>\n<text text-anchor=\"start\" x=\"911.5\" y=\"-647.8\" font-family=\"Helvetica,sans-Serif\" font-size=\"14.00\">BMI ≤ 31.4</text>\n<text text-anchor=\"start\" x=\"909.5\" y=\"-632.8\" font-family=\"Helvetica,sans-Serif\" font-size=\"14.00\">gini = 0.301</text>\n<text text-anchor=\"start\" x=\"904\" y=\"-617.8\" font-family=\"Helvetica,sans-Serif\" font-size=\"14.00\">samples = 92</text>\n<text text-anchor=\"start\" x=\"898\" y=\"-602.8\" font-family=\"Helvetica,sans-Serif\" font-size=\"14.00\">value = [17, 75]</text>\n<text text-anchor=\"start\" x=\"917.5\" y=\"-587.8\" font-family=\"Helvetica,sans-Serif\" font-size=\"14.00\">class = 1</text>\n</g>\n<!-- 28&#45;&gt;32 -->\n<g id=\"edge32\" class=\"edge\">\n<title>28&#45;&gt;32</title>\n<path fill=\"none\" stroke=\"black\" d=\"M819.22,-702.48C839.03,-689.89 861.26,-675.75 881.46,-662.9\"/>\n<polygon fill=\"black\" stroke=\"black\" points=\"883.42,-665.8 889.98,-657.48 879.66,-659.9 883.42,-665.8\"/>\n</g>\n<!-- 30 -->\n<g id=\"node31\" class=\"node\">\n<title>30</title>\n<path fill=\"#f4c9aa\" stroke=\"black\" d=\"M744,-536.5C744,-536.5 666,-536.5 666,-536.5 660,-536.5 654,-530.5 654,-524.5 654,-524.5 654,-480.5 654,-480.5 654,-474.5 660,-468.5 666,-468.5 666,-468.5 744,-468.5 744,-468.5 750,-468.5 756,-474.5 756,-480.5 756,-480.5 756,-524.5 756,-524.5 756,-530.5 750,-536.5 744,-536.5\"/>\n<text text-anchor=\"start\" x=\"669.5\" y=\"-521.3\" font-family=\"Helvetica,sans-Serif\" font-size=\"14.00\">gini = 0.463</text>\n<text text-anchor=\"start\" x=\"664\" y=\"-506.3\" font-family=\"Helvetica,sans-Serif\" font-size=\"14.00\">samples = 22</text>\n<text text-anchor=\"start\" x=\"662\" y=\"-491.3\" font-family=\"Helvetica,sans-Serif\" font-size=\"14.00\">value = [14, 8]</text>\n<text text-anchor=\"start\" x=\"677.5\" y=\"-476.3\" font-family=\"Helvetica,sans-Serif\" font-size=\"14.00\">class = 0</text>\n</g>\n<!-- 29&#45;&gt;30 -->\n<g id=\"edge30\" class=\"edge\">\n<title>29&#45;&gt;30</title>\n<path fill=\"none\" stroke=\"black\" d=\"M741.57,-579.91C736.29,-568.87 730.56,-556.9 725.23,-545.77\"/>\n<polygon fill=\"black\" stroke=\"black\" points=\"728.35,-544.18 720.87,-536.67 722.04,-547.2 728.35,-544.18\"/>\n</g>\n<!-- 31 -->\n<g id=\"node32\" class=\"node\">\n<title>31</title>\n<path fill=\"#88c4ef\" stroke=\"black\" d=\"M864,-536.5C864,-536.5 786,-536.5 786,-536.5 780,-536.5 774,-530.5 774,-524.5 774,-524.5 774,-480.5 774,-480.5 774,-474.5 780,-468.5 786,-468.5 786,-468.5 864,-468.5 864,-468.5 870,-468.5 876,-474.5 876,-480.5 876,-480.5 876,-524.5 876,-524.5 876,-530.5 870,-536.5 864,-536.5\"/>\n<text text-anchor=\"start\" x=\"789.5\" y=\"-521.3\" font-family=\"Helvetica,sans-Serif\" font-size=\"14.00\">gini = 0.408</text>\n<text text-anchor=\"start\" x=\"784\" y=\"-506.3\" font-family=\"Helvetica,sans-Serif\" font-size=\"14.00\">samples = 21</text>\n<text text-anchor=\"start\" x=\"782\" y=\"-491.3\" font-family=\"Helvetica,sans-Serif\" font-size=\"14.00\">value = [6, 15]</text>\n<text text-anchor=\"start\" x=\"797.5\" y=\"-476.3\" font-family=\"Helvetica,sans-Serif\" font-size=\"14.00\">class = 1</text>\n</g>\n<!-- 29&#45;&gt;31 -->\n<g id=\"edge31\" class=\"edge\">\n<title>29&#45;&gt;31</title>\n<path fill=\"none\" stroke=\"black\" d=\"M783.2,-579.91C789.24,-568.87 795.79,-556.9 801.88,-545.77\"/>\n<polygon fill=\"black\" stroke=\"black\" points=\"805.13,-547.12 806.86,-536.67 798.99,-543.76 805.13,-547.12\"/>\n</g>\n<!-- 33 -->\n<g id=\"node34\" class=\"node\">\n<title>33</title>\n<path fill=\"#9ccef2\" stroke=\"black\" d=\"M984,-536.5C984,-536.5 906,-536.5 906,-536.5 900,-536.5 894,-530.5 894,-524.5 894,-524.5 894,-480.5 894,-480.5 894,-474.5 900,-468.5 906,-468.5 906,-468.5 984,-468.5 984,-468.5 990,-468.5 996,-474.5 996,-480.5 996,-480.5 996,-524.5 996,-524.5 996,-530.5 990,-536.5 984,-536.5\"/>\n<text text-anchor=\"start\" x=\"909.5\" y=\"-521.3\" font-family=\"Helvetica,sans-Serif\" font-size=\"14.00\">gini = 0.444</text>\n<text text-anchor=\"start\" x=\"904\" y=\"-506.3\" font-family=\"Helvetica,sans-Serif\" font-size=\"14.00\">samples = 24</text>\n<text text-anchor=\"start\" x=\"902\" y=\"-491.3\" font-family=\"Helvetica,sans-Serif\" font-size=\"14.00\">value = [8, 16]</text>\n<text text-anchor=\"start\" x=\"917.5\" y=\"-476.3\" font-family=\"Helvetica,sans-Serif\" font-size=\"14.00\">class = 1</text>\n</g>\n<!-- 32&#45;&gt;33 -->\n<g id=\"edge33\" class=\"edge\">\n<title>32&#45;&gt;33</title>\n<path fill=\"none\" stroke=\"black\" d=\"M945,-579.91C945,-569.2 945,-557.62 945,-546.78\"/>\n<polygon fill=\"black\" stroke=\"black\" points=\"948.5,-546.67 945,-536.67 941.5,-546.67 948.5,-546.67\"/>\n</g>\n<!-- 34 -->\n<g id=\"node35\" class=\"node\">\n<title>34</title>\n<path fill=\"#57ace9\" stroke=\"black\" d=\"M1147.5,-544C1147.5,-544 1026.5,-544 1026.5,-544 1020.5,-544 1014.5,-538 1014.5,-532 1014.5,-532 1014.5,-473 1014.5,-473 1014.5,-467 1020.5,-461 1026.5,-461 1026.5,-461 1147.5,-461 1147.5,-461 1153.5,-461 1159.5,-467 1159.5,-473 1159.5,-473 1159.5,-532 1159.5,-532 1159.5,-538 1153.5,-544 1147.5,-544\"/>\n<text text-anchor=\"start\" x=\"1022.5\" y=\"-528.8\" font-family=\"Helvetica,sans-Serif\" font-size=\"14.00\">SkinThickness ≤ 30.5</text>\n<text text-anchor=\"start\" x=\"1055\" y=\"-513.8\" font-family=\"Helvetica,sans-Serif\" font-size=\"14.00\">gini = 0.23</text>\n<text text-anchor=\"start\" x=\"1046\" y=\"-498.8\" font-family=\"Helvetica,sans-Serif\" font-size=\"14.00\">samples = 68</text>\n<text text-anchor=\"start\" x=\"1044\" y=\"-483.8\" font-family=\"Helvetica,sans-Serif\" font-size=\"14.00\">value = [9, 59]</text>\n<text text-anchor=\"start\" x=\"1059.5\" y=\"-468.8\" font-family=\"Helvetica,sans-Serif\" font-size=\"14.00\">class = 1</text>\n</g>\n<!-- 32&#45;&gt;34 -->\n<g id=\"edge34\" class=\"edge\">\n<title>32&#45;&gt;34</title>\n<path fill=\"none\" stroke=\"black\" d=\"M994.27,-579.91C1005.72,-570.47 1018.01,-560.34 1029.78,-550.65\"/>\n<polygon fill=\"black\" stroke=\"black\" points=\"1032.33,-553.08 1037.82,-544.02 1027.88,-547.68 1032.33,-553.08\"/>\n</g>\n<!-- 35 -->\n<g id=\"node36\" class=\"node\">\n<title>35</title>\n<path fill=\"#4ca6e7\" stroke=\"black\" d=\"M1066,-417.5C1066,-417.5 988,-417.5 988,-417.5 982,-417.5 976,-411.5 976,-405.5 976,-405.5 976,-361.5 976,-361.5 976,-355.5 982,-349.5 988,-349.5 988,-349.5 1066,-349.5 1066,-349.5 1072,-349.5 1078,-355.5 1078,-361.5 1078,-361.5 1078,-405.5 1078,-405.5 1078,-411.5 1072,-417.5 1066,-417.5\"/>\n<text text-anchor=\"start\" x=\"991.5\" y=\"-402.3\" font-family=\"Helvetica,sans-Serif\" font-size=\"14.00\">gini = 0.157</text>\n<text text-anchor=\"start\" x=\"986\" y=\"-387.3\" font-family=\"Helvetica,sans-Serif\" font-size=\"14.00\">samples = 35</text>\n<text text-anchor=\"start\" x=\"984\" y=\"-372.3\" font-family=\"Helvetica,sans-Serif\" font-size=\"14.00\">value = [3, 32]</text>\n<text text-anchor=\"start\" x=\"999.5\" y=\"-357.3\" font-family=\"Helvetica,sans-Serif\" font-size=\"14.00\">class = 1</text>\n</g>\n<!-- 34&#45;&gt;35 -->\n<g id=\"edge35\" class=\"edge\">\n<title>34&#45;&gt;35</title>\n<path fill=\"none\" stroke=\"black\" d=\"M1066.18,-460.91C1060.52,-449.87 1054.38,-437.9 1048.68,-426.77\"/>\n<polygon fill=\"black\" stroke=\"black\" points=\"1051.69,-424.97 1044.01,-417.67 1045.46,-428.16 1051.69,-424.97\"/>\n</g>\n<!-- 36 -->\n<g id=\"node37\" class=\"node\">\n<title>36</title>\n<path fill=\"#65b3eb\" stroke=\"black\" d=\"M1186,-417.5C1186,-417.5 1108,-417.5 1108,-417.5 1102,-417.5 1096,-411.5 1096,-405.5 1096,-405.5 1096,-361.5 1096,-361.5 1096,-355.5 1102,-349.5 1108,-349.5 1108,-349.5 1186,-349.5 1186,-349.5 1192,-349.5 1198,-355.5 1198,-361.5 1198,-361.5 1198,-405.5 1198,-405.5 1198,-411.5 1192,-417.5 1186,-417.5\"/>\n<text text-anchor=\"start\" x=\"1111.5\" y=\"-402.3\" font-family=\"Helvetica,sans-Serif\" font-size=\"14.00\">gini = 0.298</text>\n<text text-anchor=\"start\" x=\"1106\" y=\"-387.3\" font-family=\"Helvetica,sans-Serif\" font-size=\"14.00\">samples = 33</text>\n<text text-anchor=\"start\" x=\"1104\" y=\"-372.3\" font-family=\"Helvetica,sans-Serif\" font-size=\"14.00\">value = [6, 27]</text>\n<text text-anchor=\"start\" x=\"1119.5\" y=\"-357.3\" font-family=\"Helvetica,sans-Serif\" font-size=\"14.00\">class = 1</text>\n</g>\n<!-- 34&#45;&gt;36 -->\n<g id=\"edge36\" class=\"edge\">\n<title>34&#45;&gt;36</title>\n<path fill=\"none\" stroke=\"black\" d=\"M1107.82,-460.91C1113.48,-449.87 1119.62,-437.9 1125.32,-426.77\"/>\n<polygon fill=\"black\" stroke=\"black\" points=\"1128.54,-428.16 1129.99,-417.67 1122.31,-424.97 1128.54,-428.16\"/>\n</g>\n</g>\n</svg>\n",
            "text/plain": [
              "<graphviz.sources.Source at 0x7ee6ec0dc550>"
            ]
          },
          "metadata": {},
          "execution_count": 23
        }
      ]
    },
    {
      "cell_type": "markdown",
      "source": [
        "#**Random forest**"
      ],
      "metadata": {
        "id": "sycV0wtEQdcr"
      }
    },
    {
      "cell_type": "code",
      "source": [
        "from sklearn import ensemble"
      ],
      "metadata": {
        "id": "wOYzj1MeQmBH"
      },
      "execution_count": 24,
      "outputs": []
    },
    {
      "cell_type": "code",
      "source": [
        "target = \"Outcome\"\n",
        "X, y = df.drop(columns=[target, 'DiabetesPedigreeFunction']), df[target]\n",
        "X_train, X_test, y_train, y_test = model_selection.train_test_split(X, y, random_state=999)\n",
        "clf_rf = ensemble.RandomForestClassifier(random_state=1, min_samples_leaf=20)\n",
        "clf_rf.fit(X_train, y_train)\n",
        "clf_rf.score(X_train, y_train), clf_rf.score(X_test, y_test)"
      ],
      "metadata": {
        "colab": {
          "base_uri": "https://localhost:8080/"
        },
        "id": "4UkYHIR8QxYR",
        "outputId": "fbe20ada-3546-4a9d-9ce0-b26181c7b615"
      },
      "execution_count": 26,
      "outputs": [
        {
          "output_type": "execute_result",
          "data": {
            "text/plain": [
              "(0.7978142076502732, 0.7445652173913043)"
            ]
          },
          "metadata": {},
          "execution_count": 26
        }
      ]
    },
    {
      "cell_type": "code",
      "source": [
        "from tqdm import tqdm"
      ],
      "metadata": {
        "id": "GIW6Rx8yR3kj"
      },
      "execution_count": 27,
      "outputs": []
    },
    {
      "cell_type": "code",
      "source": [
        "for i in range(1,10):\n",
        "    for k in range(1,10):\n",
        "        target = \"Outcome\"\n",
        "        X, y = df.drop(columns=[target, 'DiabetesPedigreeFunction']), df[target]\n",
        "        X_train, X_test, y_train, y_test = model_selection.train_test_split(X, y, random_state=999)\n",
        "        clf = ensemble.RandomForestClassifier(n_estimators=i, n_jobs=k, random_state=1)\n",
        "        clf.fit(X_train, y_train)\n",
        "        print('n_estimators:', i, 'n_jobs:', k, clf.score(X_train, y_train), clf.score(X_test, y_test))"
      ],
      "metadata": {
        "colab": {
          "base_uri": "https://localhost:8080/"
        },
        "id": "DQifw0dHRo7q",
        "outputId": "8267b1f3-ab90-497d-e2cb-9c72ffe49962"
      },
      "execution_count": 28,
      "outputs": [
        {
          "output_type": "stream",
          "name": "stdout",
          "text": [
            "n_estimators: 1 n_jobs: 1 0.9016393442622951 0.7065217391304348\n",
            "n_estimators: 1 n_jobs: 2 0.9016393442622951 0.7065217391304348\n",
            "n_estimators: 1 n_jobs: 3 0.9016393442622951 0.7065217391304348\n",
            "n_estimators: 1 n_jobs: 4 0.9016393442622951 0.7065217391304348\n",
            "n_estimators: 1 n_jobs: 5 0.9016393442622951 0.7065217391304348\n",
            "n_estimators: 1 n_jobs: 6 0.9016393442622951 0.7065217391304348\n",
            "n_estimators: 1 n_jobs: 7 0.9016393442622951 0.7065217391304348\n",
            "n_estimators: 1 n_jobs: 8 0.9016393442622951 0.7065217391304348\n",
            "n_estimators: 1 n_jobs: 9 0.9016393442622951 0.7065217391304348\n",
            "n_estimators: 2 n_jobs: 1 0.9052823315118397 0.6847826086956522\n",
            "n_estimators: 2 n_jobs: 2 0.9052823315118397 0.6847826086956522\n",
            "n_estimators: 2 n_jobs: 3 0.9052823315118397 0.6847826086956522\n",
            "n_estimators: 2 n_jobs: 4 0.9052823315118397 0.6847826086956522\n",
            "n_estimators: 2 n_jobs: 5 0.9052823315118397 0.6847826086956522\n",
            "n_estimators: 2 n_jobs: 6 0.9052823315118397 0.6847826086956522\n",
            "n_estimators: 2 n_jobs: 7 0.9052823315118397 0.6847826086956522\n",
            "n_estimators: 2 n_jobs: 8 0.9052823315118397 0.6847826086956522\n",
            "n_estimators: 2 n_jobs: 9 0.9052823315118397 0.6847826086956522\n",
            "n_estimators: 3 n_jobs: 1 0.9398907103825137 0.6902173913043478\n",
            "n_estimators: 3 n_jobs: 2 0.9398907103825137 0.6902173913043478\n",
            "n_estimators: 3 n_jobs: 3 0.9398907103825137 0.6902173913043478\n",
            "n_estimators: 3 n_jobs: 4 0.9398907103825137 0.6902173913043478\n",
            "n_estimators: 3 n_jobs: 5 0.9398907103825137 0.6902173913043478\n",
            "n_estimators: 3 n_jobs: 6 0.9398907103825137 0.6902173913043478\n",
            "n_estimators: 3 n_jobs: 7 0.9398907103825137 0.6902173913043478\n",
            "n_estimators: 3 n_jobs: 8 0.9398907103825137 0.6902173913043478\n",
            "n_estimators: 3 n_jobs: 9 0.9398907103825137 0.6902173913043478\n",
            "n_estimators: 4 n_jobs: 1 0.936247723132969 0.717391304347826\n",
            "n_estimators: 4 n_jobs: 2 0.936247723132969 0.717391304347826\n",
            "n_estimators: 4 n_jobs: 3 0.936247723132969 0.717391304347826\n",
            "n_estimators: 4 n_jobs: 4 0.936247723132969 0.717391304347826\n",
            "n_estimators: 4 n_jobs: 5 0.936247723132969 0.717391304347826\n",
            "n_estimators: 4 n_jobs: 6 0.936247723132969 0.717391304347826\n",
            "n_estimators: 4 n_jobs: 7 0.936247723132969 0.717391304347826\n",
            "n_estimators: 4 n_jobs: 8 0.936247723132969 0.717391304347826\n",
            "n_estimators: 4 n_jobs: 9 0.936247723132969 0.717391304347826\n",
            "n_estimators: 5 n_jobs: 1 0.9581056466302368 0.7119565217391305\n",
            "n_estimators: 5 n_jobs: 2 0.9581056466302368 0.7119565217391305\n",
            "n_estimators: 5 n_jobs: 3 0.9581056466302368 0.7119565217391305\n",
            "n_estimators: 5 n_jobs: 4 0.9581056466302368 0.7119565217391305\n",
            "n_estimators: 5 n_jobs: 5 0.9581056466302368 0.7119565217391305\n",
            "n_estimators: 5 n_jobs: 6 0.9581056466302368 0.7119565217391305\n",
            "n_estimators: 5 n_jobs: 7 0.9581056466302368 0.7119565217391305\n",
            "n_estimators: 5 n_jobs: 8 0.9581056466302368 0.7119565217391305\n",
            "n_estimators: 5 n_jobs: 9 0.9581056466302368 0.7119565217391305\n",
            "n_estimators: 6 n_jobs: 1 0.9562841530054644 0.7336956521739131\n",
            "n_estimators: 6 n_jobs: 2 0.9562841530054644 0.7336956521739131\n",
            "n_estimators: 6 n_jobs: 3 0.9562841530054644 0.7336956521739131\n",
            "n_estimators: 6 n_jobs: 4 0.9562841530054644 0.7336956521739131\n",
            "n_estimators: 6 n_jobs: 5 0.9562841530054644 0.7336956521739131\n",
            "n_estimators: 6 n_jobs: 6 0.9562841530054644 0.7336956521739131\n",
            "n_estimators: 6 n_jobs: 7 0.9562841530054644 0.7336956521739131\n",
            "n_estimators: 6 n_jobs: 8 0.9562841530054644 0.7336956521739131\n",
            "n_estimators: 6 n_jobs: 9 0.9562841530054644 0.7336956521739131\n",
            "n_estimators: 7 n_jobs: 1 0.970856102003643 0.7119565217391305\n",
            "n_estimators: 7 n_jobs: 2 0.970856102003643 0.7119565217391305\n",
            "n_estimators: 7 n_jobs: 3 0.970856102003643 0.7119565217391305\n",
            "n_estimators: 7 n_jobs: 4 0.970856102003643 0.7119565217391305\n",
            "n_estimators: 7 n_jobs: 5 0.970856102003643 0.7119565217391305\n",
            "n_estimators: 7 n_jobs: 6 0.970856102003643 0.7119565217391305\n",
            "n_estimators: 7 n_jobs: 7 0.970856102003643 0.7119565217391305\n",
            "n_estimators: 7 n_jobs: 8 0.970856102003643 0.7119565217391305\n",
            "n_estimators: 7 n_jobs: 9 0.970856102003643 0.7119565217391305\n",
            "n_estimators: 8 n_jobs: 1 0.970856102003643 0.7119565217391305\n",
            "n_estimators: 8 n_jobs: 2 0.970856102003643 0.7119565217391305\n",
            "n_estimators: 8 n_jobs: 3 0.970856102003643 0.7119565217391305\n",
            "n_estimators: 8 n_jobs: 4 0.970856102003643 0.7119565217391305\n",
            "n_estimators: 8 n_jobs: 5 0.970856102003643 0.7119565217391305\n",
            "n_estimators: 8 n_jobs: 6 0.970856102003643 0.7119565217391305\n",
            "n_estimators: 8 n_jobs: 7 0.970856102003643 0.7119565217391305\n",
            "n_estimators: 8 n_jobs: 8 0.970856102003643 0.7119565217391305\n",
            "n_estimators: 8 n_jobs: 9 0.970856102003643 0.7119565217391305\n",
            "n_estimators: 9 n_jobs: 1 0.9781420765027322 0.717391304347826\n",
            "n_estimators: 9 n_jobs: 2 0.9781420765027322 0.717391304347826\n",
            "n_estimators: 9 n_jobs: 3 0.9781420765027322 0.717391304347826\n",
            "n_estimators: 9 n_jobs: 4 0.9781420765027322 0.717391304347826\n",
            "n_estimators: 9 n_jobs: 5 0.9781420765027322 0.717391304347826\n",
            "n_estimators: 9 n_jobs: 6 0.9781420765027322 0.717391304347826\n",
            "n_estimators: 9 n_jobs: 7 0.9781420765027322 0.717391304347826\n",
            "n_estimators: 9 n_jobs: 8 0.9781420765027322 0.717391304347826\n",
            "n_estimators: 9 n_jobs: 9 0.9781420765027322 0.717391304347826\n"
          ]
        }
      ]
    },
    {
      "cell_type": "code",
      "source": [
        "df.head()"
      ],
      "metadata": {
        "colab": {
          "base_uri": "https://localhost:8080/",
          "height": 206
        },
        "id": "2PMkCxm5k3e4",
        "outputId": "c465dffc-a87f-4b5d-f894-4ff563ecd6fe"
      },
      "execution_count": 56,
      "outputs": [
        {
          "output_type": "execute_result",
          "data": {
            "text/plain": [
              "   Pregnancies  Glucose  BloodPressure  SkinThickness     Insulin   BMI  \\\n",
              "0            6      148             72             35  155.548223  33.6   \n",
              "1            1       85             66             29  155.548223  26.6   \n",
              "2            8      183             64              0  155.548223  23.3   \n",
              "3            1       89             66             23   94.000000  28.1   \n",
              "4            0      137             40             35  168.000000  43.1   \n",
              "\n",
              "   DiabetesPedigreeFunction  Age  Outcome  \n",
              "0                     0.627   50        1  \n",
              "1                     0.351   31        0  \n",
              "2                     0.672   32        1  \n",
              "3                     0.167   21        0  \n",
              "4                     2.288   33        1  "
            ],
            "text/html": [
              "\n",
              "  <div id=\"df-94d9327f-75fa-4f43-8907-3a20624097b1\" class=\"colab-df-container\">\n",
              "    <div>\n",
              "<style scoped>\n",
              "    .dataframe tbody tr th:only-of-type {\n",
              "        vertical-align: middle;\n",
              "    }\n",
              "\n",
              "    .dataframe tbody tr th {\n",
              "        vertical-align: top;\n",
              "    }\n",
              "\n",
              "    .dataframe thead th {\n",
              "        text-align: right;\n",
              "    }\n",
              "</style>\n",
              "<table border=\"1\" class=\"dataframe\">\n",
              "  <thead>\n",
              "    <tr style=\"text-align: right;\">\n",
              "      <th></th>\n",
              "      <th>Pregnancies</th>\n",
              "      <th>Glucose</th>\n",
              "      <th>BloodPressure</th>\n",
              "      <th>SkinThickness</th>\n",
              "      <th>Insulin</th>\n",
              "      <th>BMI</th>\n",
              "      <th>DiabetesPedigreeFunction</th>\n",
              "      <th>Age</th>\n",
              "      <th>Outcome</th>\n",
              "    </tr>\n",
              "  </thead>\n",
              "  <tbody>\n",
              "    <tr>\n",
              "      <th>0</th>\n",
              "      <td>6</td>\n",
              "      <td>148</td>\n",
              "      <td>72</td>\n",
              "      <td>35</td>\n",
              "      <td>155.548223</td>\n",
              "      <td>33.6</td>\n",
              "      <td>0.627</td>\n",
              "      <td>50</td>\n",
              "      <td>1</td>\n",
              "    </tr>\n",
              "    <tr>\n",
              "      <th>1</th>\n",
              "      <td>1</td>\n",
              "      <td>85</td>\n",
              "      <td>66</td>\n",
              "      <td>29</td>\n",
              "      <td>155.548223</td>\n",
              "      <td>26.6</td>\n",
              "      <td>0.351</td>\n",
              "      <td>31</td>\n",
              "      <td>0</td>\n",
              "    </tr>\n",
              "    <tr>\n",
              "      <th>2</th>\n",
              "      <td>8</td>\n",
              "      <td>183</td>\n",
              "      <td>64</td>\n",
              "      <td>0</td>\n",
              "      <td>155.548223</td>\n",
              "      <td>23.3</td>\n",
              "      <td>0.672</td>\n",
              "      <td>32</td>\n",
              "      <td>1</td>\n",
              "    </tr>\n",
              "    <tr>\n",
              "      <th>3</th>\n",
              "      <td>1</td>\n",
              "      <td>89</td>\n",
              "      <td>66</td>\n",
              "      <td>23</td>\n",
              "      <td>94.000000</td>\n",
              "      <td>28.1</td>\n",
              "      <td>0.167</td>\n",
              "      <td>21</td>\n",
              "      <td>0</td>\n",
              "    </tr>\n",
              "    <tr>\n",
              "      <th>4</th>\n",
              "      <td>0</td>\n",
              "      <td>137</td>\n",
              "      <td>40</td>\n",
              "      <td>35</td>\n",
              "      <td>168.000000</td>\n",
              "      <td>43.1</td>\n",
              "      <td>2.288</td>\n",
              "      <td>33</td>\n",
              "      <td>1</td>\n",
              "    </tr>\n",
              "  </tbody>\n",
              "</table>\n",
              "</div>\n",
              "    <div class=\"colab-df-buttons\">\n",
              "\n",
              "  <div class=\"colab-df-container\">\n",
              "    <button class=\"colab-df-convert\" onclick=\"convertToInteractive('df-94d9327f-75fa-4f43-8907-3a20624097b1')\"\n",
              "            title=\"Convert this dataframe to an interactive table.\"\n",
              "            style=\"display:none;\">\n",
              "\n",
              "  <svg xmlns=\"http://www.w3.org/2000/svg\" height=\"24px\" viewBox=\"0 -960 960 960\">\n",
              "    <path d=\"M120-120v-720h720v720H120Zm60-500h600v-160H180v160Zm220 220h160v-160H400v160Zm0 220h160v-160H400v160ZM180-400h160v-160H180v160Zm440 0h160v-160H620v160ZM180-180h160v-160H180v160Zm440 0h160v-160H620v160Z\"/>\n",
              "  </svg>\n",
              "    </button>\n",
              "\n",
              "  <style>\n",
              "    .colab-df-container {\n",
              "      display:flex;\n",
              "      gap: 12px;\n",
              "    }\n",
              "\n",
              "    .colab-df-convert {\n",
              "      background-color: #E8F0FE;\n",
              "      border: none;\n",
              "      border-radius: 50%;\n",
              "      cursor: pointer;\n",
              "      display: none;\n",
              "      fill: #1967D2;\n",
              "      height: 32px;\n",
              "      padding: 0 0 0 0;\n",
              "      width: 32px;\n",
              "    }\n",
              "\n",
              "    .colab-df-convert:hover {\n",
              "      background-color: #E2EBFA;\n",
              "      box-shadow: 0px 1px 2px rgba(60, 64, 67, 0.3), 0px 1px 3px 1px rgba(60, 64, 67, 0.15);\n",
              "      fill: #174EA6;\n",
              "    }\n",
              "\n",
              "    .colab-df-buttons div {\n",
              "      margin-bottom: 4px;\n",
              "    }\n",
              "\n",
              "    [theme=dark] .colab-df-convert {\n",
              "      background-color: #3B4455;\n",
              "      fill: #D2E3FC;\n",
              "    }\n",
              "\n",
              "    [theme=dark] .colab-df-convert:hover {\n",
              "      background-color: #434B5C;\n",
              "      box-shadow: 0px 1px 3px 1px rgba(0, 0, 0, 0.15);\n",
              "      filter: drop-shadow(0px 1px 2px rgba(0, 0, 0, 0.3));\n",
              "      fill: #FFFFFF;\n",
              "    }\n",
              "  </style>\n",
              "\n",
              "    <script>\n",
              "      const buttonEl =\n",
              "        document.querySelector('#df-94d9327f-75fa-4f43-8907-3a20624097b1 button.colab-df-convert');\n",
              "      buttonEl.style.display =\n",
              "        google.colab.kernel.accessAllowed ? 'block' : 'none';\n",
              "\n",
              "      async function convertToInteractive(key) {\n",
              "        const element = document.querySelector('#df-94d9327f-75fa-4f43-8907-3a20624097b1');\n",
              "        const dataTable =\n",
              "          await google.colab.kernel.invokeFunction('convertToInteractive',\n",
              "                                                    [key], {});\n",
              "        if (!dataTable) return;\n",
              "\n",
              "        const docLinkHtml = 'Like what you see? Visit the ' +\n",
              "          '<a target=\"_blank\" href=https://colab.research.google.com/notebooks/data_table.ipynb>data table notebook</a>'\n",
              "          + ' to learn more about interactive tables.';\n",
              "        element.innerHTML = '';\n",
              "        dataTable['output_type'] = 'display_data';\n",
              "        await google.colab.output.renderOutput(dataTable, element);\n",
              "        const docLink = document.createElement('div');\n",
              "        docLink.innerHTML = docLinkHtml;\n",
              "        element.appendChild(docLink);\n",
              "      }\n",
              "    </script>\n",
              "  </div>\n",
              "\n",
              "\n",
              "<div id=\"df-b53ca1ab-f460-41be-8649-63177e35db9c\">\n",
              "  <button class=\"colab-df-quickchart\" onclick=\"quickchart('df-b53ca1ab-f460-41be-8649-63177e35db9c')\"\n",
              "            title=\"Suggest charts\"\n",
              "            style=\"display:none;\">\n",
              "\n",
              "<svg xmlns=\"http://www.w3.org/2000/svg\" height=\"24px\"viewBox=\"0 0 24 24\"\n",
              "     width=\"24px\">\n",
              "    <g>\n",
              "        <path d=\"M19 3H5c-1.1 0-2 .9-2 2v14c0 1.1.9 2 2 2h14c1.1 0 2-.9 2-2V5c0-1.1-.9-2-2-2zM9 17H7v-7h2v7zm4 0h-2V7h2v10zm4 0h-2v-4h2v4z\"/>\n",
              "    </g>\n",
              "</svg>\n",
              "  </button>\n",
              "\n",
              "<style>\n",
              "  .colab-df-quickchart {\n",
              "      --bg-color: #E8F0FE;\n",
              "      --fill-color: #1967D2;\n",
              "      --hover-bg-color: #E2EBFA;\n",
              "      --hover-fill-color: #174EA6;\n",
              "      --disabled-fill-color: #AAA;\n",
              "      --disabled-bg-color: #DDD;\n",
              "  }\n",
              "\n",
              "  [theme=dark] .colab-df-quickchart {\n",
              "      --bg-color: #3B4455;\n",
              "      --fill-color: #D2E3FC;\n",
              "      --hover-bg-color: #434B5C;\n",
              "      --hover-fill-color: #FFFFFF;\n",
              "      --disabled-bg-color: #3B4455;\n",
              "      --disabled-fill-color: #666;\n",
              "  }\n",
              "\n",
              "  .colab-df-quickchart {\n",
              "    background-color: var(--bg-color);\n",
              "    border: none;\n",
              "    border-radius: 50%;\n",
              "    cursor: pointer;\n",
              "    display: none;\n",
              "    fill: var(--fill-color);\n",
              "    height: 32px;\n",
              "    padding: 0;\n",
              "    width: 32px;\n",
              "  }\n",
              "\n",
              "  .colab-df-quickchart:hover {\n",
              "    background-color: var(--hover-bg-color);\n",
              "    box-shadow: 0 1px 2px rgba(60, 64, 67, 0.3), 0 1px 3px 1px rgba(60, 64, 67, 0.15);\n",
              "    fill: var(--button-hover-fill-color);\n",
              "  }\n",
              "\n",
              "  .colab-df-quickchart-complete:disabled,\n",
              "  .colab-df-quickchart-complete:disabled:hover {\n",
              "    background-color: var(--disabled-bg-color);\n",
              "    fill: var(--disabled-fill-color);\n",
              "    box-shadow: none;\n",
              "  }\n",
              "\n",
              "  .colab-df-spinner {\n",
              "    border: 2px solid var(--fill-color);\n",
              "    border-color: transparent;\n",
              "    border-bottom-color: var(--fill-color);\n",
              "    animation:\n",
              "      spin 1s steps(1) infinite;\n",
              "  }\n",
              "\n",
              "  @keyframes spin {\n",
              "    0% {\n",
              "      border-color: transparent;\n",
              "      border-bottom-color: var(--fill-color);\n",
              "      border-left-color: var(--fill-color);\n",
              "    }\n",
              "    20% {\n",
              "      border-color: transparent;\n",
              "      border-left-color: var(--fill-color);\n",
              "      border-top-color: var(--fill-color);\n",
              "    }\n",
              "    30% {\n",
              "      border-color: transparent;\n",
              "      border-left-color: var(--fill-color);\n",
              "      border-top-color: var(--fill-color);\n",
              "      border-right-color: var(--fill-color);\n",
              "    }\n",
              "    40% {\n",
              "      border-color: transparent;\n",
              "      border-right-color: var(--fill-color);\n",
              "      border-top-color: var(--fill-color);\n",
              "    }\n",
              "    60% {\n",
              "      border-color: transparent;\n",
              "      border-right-color: var(--fill-color);\n",
              "    }\n",
              "    80% {\n",
              "      border-color: transparent;\n",
              "      border-right-color: var(--fill-color);\n",
              "      border-bottom-color: var(--fill-color);\n",
              "    }\n",
              "    90% {\n",
              "      border-color: transparent;\n",
              "      border-bottom-color: var(--fill-color);\n",
              "    }\n",
              "  }\n",
              "</style>\n",
              "\n",
              "  <script>\n",
              "    async function quickchart(key) {\n",
              "      const quickchartButtonEl =\n",
              "        document.querySelector('#' + key + ' button');\n",
              "      quickchartButtonEl.disabled = true;  // To prevent multiple clicks.\n",
              "      quickchartButtonEl.classList.add('colab-df-spinner');\n",
              "      try {\n",
              "        const charts = await google.colab.kernel.invokeFunction(\n",
              "            'suggestCharts', [key], {});\n",
              "      } catch (error) {\n",
              "        console.error('Error during call to suggestCharts:', error);\n",
              "      }\n",
              "      quickchartButtonEl.classList.remove('colab-df-spinner');\n",
              "      quickchartButtonEl.classList.add('colab-df-quickchart-complete');\n",
              "    }\n",
              "    (() => {\n",
              "      let quickchartButtonEl =\n",
              "        document.querySelector('#df-b53ca1ab-f460-41be-8649-63177e35db9c button');\n",
              "      quickchartButtonEl.style.display =\n",
              "        google.colab.kernel.accessAllowed ? 'block' : 'none';\n",
              "    })();\n",
              "  </script>\n",
              "</div>\n",
              "\n",
              "    </div>\n",
              "  </div>\n"
            ],
            "application/vnd.google.colaboratory.intrinsic+json": {
              "type": "dataframe",
              "variable_name": "df",
              "summary": "{\n  \"name\": \"df\",\n  \"rows\": 733,\n  \"fields\": [\n    {\n      \"column\": \"Pregnancies\",\n      \"properties\": {\n        \"dtype\": \"number\",\n        \"std\": 3,\n        \"min\": 0,\n        \"max\": 17,\n        \"num_unique_values\": 17,\n        \"samples\": [\n          6,\n          1,\n          3\n        ],\n        \"semantic_type\": \"\",\n        \"description\": \"\"\n      }\n    },\n    {\n      \"column\": \"Glucose\",\n      \"properties\": {\n        \"dtype\": \"number\",\n        \"std\": 32,\n        \"min\": 0,\n        \"max\": 199,\n        \"num_unique_values\": 136,\n        \"samples\": [\n          76,\n          150,\n          83\n        ],\n        \"semantic_type\": \"\",\n        \"description\": \"\"\n      }\n    },\n    {\n      \"column\": \"BloodPressure\",\n      \"properties\": {\n        \"dtype\": \"number\",\n        \"std\": 12,\n        \"min\": 24,\n        \"max\": 122,\n        \"num_unique_values\": 46,\n        \"samples\": [\n          102,\n          85,\n          86\n        ],\n        \"semantic_type\": \"\",\n        \"description\": \"\"\n      }\n    },\n    {\n      \"column\": \"SkinThickness\",\n      \"properties\": {\n        \"dtype\": \"number\",\n        \"std\": 15,\n        \"min\": 0,\n        \"max\": 99,\n        \"num_unique_values\": 51,\n        \"samples\": [\n          7,\n          12,\n          48\n        ],\n        \"semantic_type\": \"\",\n        \"description\": \"\"\n      }\n    },\n    {\n      \"column\": \"Insulin\",\n      \"properties\": {\n        \"dtype\": \"number\",\n        \"std\": 87.02998339995304,\n        \"min\": 14.0,\n        \"max\": 846.0,\n        \"num_unique_values\": 186,\n        \"samples\": [\n          52.0,\n          41.0,\n          183.0\n        ],\n        \"semantic_type\": \"\",\n        \"description\": \"\"\n      }\n    },\n    {\n      \"column\": \"BMI\",\n      \"properties\": {\n        \"dtype\": \"number\",\n        \"std\": 7.27153967036171,\n        \"min\": 0.0,\n        \"max\": 67.1,\n        \"num_unique_values\": 247,\n        \"samples\": [\n          24.0,\n          31.0,\n          23.1\n        ],\n        \"semantic_type\": \"\",\n        \"description\": \"\"\n      }\n    },\n    {\n      \"column\": \"DiabetesPedigreeFunction\",\n      \"properties\": {\n        \"dtype\": \"number\",\n        \"std\": 0.33417933449601817,\n        \"min\": 0.078,\n        \"max\": 2.42,\n        \"num_unique_values\": 503,\n        \"samples\": [\n          0.122,\n          0.227,\n          0.499\n        ],\n        \"semantic_type\": \"\",\n        \"description\": \"\"\n      }\n    },\n    {\n      \"column\": \"Age\",\n      \"properties\": {\n        \"dtype\": \"number\",\n        \"std\": 11,\n        \"min\": 21,\n        \"max\": 81,\n        \"num_unique_values\": 51,\n        \"samples\": [\n          66,\n          65,\n          67\n        ],\n        \"semantic_type\": \"\",\n        \"description\": \"\"\n      }\n    },\n    {\n      \"column\": \"Outcome\",\n      \"properties\": {\n        \"dtype\": \"number\",\n        \"std\": 0,\n        \"min\": 0,\n        \"max\": 1,\n        \"num_unique_values\": 2,\n        \"samples\": [\n          0,\n          1\n        ],\n        \"semantic_type\": \"\",\n        \"description\": \"\"\n      }\n    }\n  ]\n}"
            }
          },
          "metadata": {},
          "execution_count": 56
        }
      ]
    },
    {
      "cell_type": "code",
      "source": [
        "plt.scatter(df['BMI'], df['Outcome'])\n",
        "plt.show()"
      ],
      "metadata": {
        "colab": {
          "base_uri": "https://localhost:8080/",
          "height": 430
        },
        "id": "FBtjswIxp5Z4",
        "outputId": "730e532b-5bfe-4e28-bcce-4cba3fd95144"
      },
      "execution_count": 30,
      "outputs": [
        {
          "output_type": "display_data",
          "data": {
            "text/plain": [
              "<Figure size 640x480 with 1 Axes>"
            ],
            "image/png": "[encoded data removed]"
          },
          "metadata": {}
        }
      ]
    },
    {
      "cell_type": "code",
      "source": [
        "import numpy as np"
      ],
      "metadata": {
        "id": "Daiobm1amXx_"
      },
      "execution_count": 31,
      "outputs": []
    },
    {
      "cell_type": "code",
      "source": [
        "p = 0.5\n",
        "p/(1-p), np.log(np.array([p/(1-p)]))"
      ],
      "metadata": {
        "colab": {
          "base_uri": "https://localhost:8080/"
        },
        "id": "7jH8R4V6lu8j",
        "outputId": "547ee157-2261-46e2-9969-5bf14ea734c5"
      },
      "execution_count": 32,
      "outputs": [
        {
          "output_type": "execute_result",
          "data": {
            "text/plain": [
              "(1.0, array([0.]))"
            ]
          },
          "metadata": {},
          "execution_count": 32
        }
      ]
    },
    {
      "cell_type": "code",
      "source": [
        "p = 0.8\n",
        "p/(1-p)"
      ],
      "metadata": {
        "colab": {
          "base_uri": "https://localhost:8080/"
        },
        "id": "k1Y59blBm5A2",
        "outputId": "8429c153-70d8-439b-eaef-9cb71b3c31cb"
      },
      "execution_count": 35,
      "outputs": [
        {
          "output_type": "execute_result",
          "data": {
            "text/plain": [
              "4.000000000000001"
            ]
          },
          "metadata": {},
          "execution_count": 35
        }
      ]
    },
    {
      "cell_type": "code",
      "source": [
        "from sklearn import linear_model"
      ],
      "metadata": {
        "id": "42oB5aXrp0ba"
      },
      "execution_count": 36,
      "outputs": []
    },
    {
      "cell_type": "code",
      "source": [
        "clf_logistic = linear_model.LogisticRegression()"
      ],
      "metadata": {
        "id": "vA-672GVro5M"
      },
      "execution_count": 37,
      "outputs": []
    },
    {
      "cell_type": "code",
      "source": [
        "target = \"Outcome\"\n",
        "X, y = df.drop(columns=[target, 'DiabetesPedigreeFunction']), df[target]\n",
        "scaler = preprocessing.StandardScaler()\n",
        "X_train, X_test, y_train, y_test = model_selection.train_test_split(X, y, random_state=999)\n",
        "scaler.fit(X_train)\n",
        "X_train = scaler.transform(X_train)\n",
        "X_test = scaler.transform(X_test)\n",
        "clf_logistic = linear_model.LogisticRegression()\n",
        "clf_logistic.fit(X_train, y_train)\n",
        "clf_logistic.score(X_train, y_train), clf_logistic.score(X_test, y_test)"
      ],
      "metadata": {
        "colab": {
          "base_uri": "https://localhost:8080/"
        },
        "id": "K_vtUixosG66",
        "outputId": "64437a7e-ae81-47a5-f4c6-1ee2669fa837"
      },
      "execution_count": 38,
      "outputs": [
        {
          "output_type": "execute_result",
          "data": {
            "text/plain": [
              "(0.7832422586520947, 0.7391304347826086)"
            ]
          },
          "metadata": {},
          "execution_count": 38
        }
      ]
    },
    {
      "cell_type": "code",
      "source": [
        "clf_logistic.intercept_, clf_logistic.coef_"
      ],
      "metadata": {
        "colab": {
          "base_uri": "https://localhost:8080/"
        },
        "id": "riBXO4YjsXRD",
        "outputId": "1aaf2236-2d5b-4137-c9ff-108f5acc4505"
      },
      "execution_count": 39,
      "outputs": [
        {
          "output_type": "execute_result",
          "data": {
            "text/plain": [
              "(array([-0.86676452]),\n",
              " array([[ 0.28539117,  1.08444134, -0.11900869,  0.00499105,  0.01398913,\n",
              "          0.62871077,  0.23716171]]))"
            ]
          },
          "metadata": {},
          "execution_count": 39
        }
      ]
    },
    {
      "cell_type": "code",
      "source": [
        "X_test"
      ],
      "metadata": {
        "colab": {
          "base_uri": "https://localhost:8080/"
        },
        "id": "a2idQEIcsmHI",
        "outputId": "7bcfedf1-f868-4cc0-ecf2-074ccd2450ff"
      },
      "execution_count": 40,
      "outputs": [
        {
          "output_type": "execute_result",
          "data": {
            "text/plain": [
              "array([[-0.84293933, -1.28404742,  0.1246385 , ..., -1.11215689,\n",
              "        -0.38019402, -0.95776207],\n",
              "       [-0.24887811,  1.27299255, -0.18852642, ..., -0.57580864,\n",
              "        -0.1505561 , -0.44318561],\n",
              "       [ 1.23627495,  1.67349279,  1.37729818, ...,  1.74836712,\n",
              "         0.15084367,  2.12969667],\n",
              "       ...,\n",
              "       [ 1.23627495, -0.39062381,  0.28122096, ..., -0.46853898,\n",
              "        -0.68159378, -0.18589738],\n",
              "       [ 0.34518311, -0.39062381,  0.20292973, ...,  0.02666806,\n",
              "         0.48094817,  2.30122215],\n",
              "       [-1.13996994, -0.54466236,  0.28122096, ...,  0.02666806,\n",
              "        -2.04506892, -0.52894835]])"
            ]
          },
          "metadata": {},
          "execution_count": 40
        }
      ]
    },
    {
      "cell_type": "code",
      "source": [
        "y_test"
      ],
      "metadata": {
        "colab": {
          "base_uri": "https://localhost:8080/",
          "height": 458
        },
        "id": "QCMPMhtttEbS",
        "outputId": "ed774d22-5f35-4da6-f2ea-f9e0a3ec05a5"
      },
      "execution_count": 41,
      "outputs": [
        {
          "output_type": "execute_result",
          "data": {
            "text/plain": [
              "432    0\n",
              "515    1\n",
              "53     1\n",
              "513    0\n",
              "399    1\n",
              "      ..\n",
              "765    0\n",
              "359    1\n",
              "188    1\n",
              "30     0\n",
              "239    0\n",
              "Name: Outcome, Length: 184, dtype: int64"
            ],
            "text/html": [
              "<div>\n",
              "<style scoped>\n",
              "    .dataframe tbody tr th:only-of-type {\n",
              "        vertical-align: middle;\n",
              "    }\n",
              "\n",
              "    .dataframe tbody tr th {\n",
              "        vertical-align: top;\n",
              "    }\n",
              "\n",
              "    .dataframe thead th {\n",
              "        text-align: right;\n",
              "    }\n",
              "</style>\n",
              "<table border=\"1\" class=\"dataframe\">\n",
              "  <thead>\n",
              "    <tr style=\"text-align: right;\">\n",
              "      <th></th>\n",
              "      <th>Outcome</th>\n",
              "    </tr>\n",
              "  </thead>\n",
              "  <tbody>\n",
              "    <tr>\n",
              "      <th>432</th>\n",
              "      <td>0</td>\n",
              "    </tr>\n",
              "    <tr>\n",
              "      <th>515</th>\n",
              "      <td>1</td>\n",
              "    </tr>\n",
              "    <tr>\n",
              "      <th>53</th>\n",
              "      <td>1</td>\n",
              "    </tr>\n",
              "    <tr>\n",
              "      <th>513</th>\n",
              "      <td>0</td>\n",
              "    </tr>\n",
              "    <tr>\n",
              "      <th>399</th>\n",
              "      <td>1</td>\n",
              "    </tr>\n",
              "    <tr>\n",
              "      <th>...</th>\n",
              "      <td>...</td>\n",
              "    </tr>\n",
              "    <tr>\n",
              "      <th>765</th>\n",
              "      <td>0</td>\n",
              "    </tr>\n",
              "    <tr>\n",
              "      <th>359</th>\n",
              "      <td>1</td>\n",
              "    </tr>\n",
              "    <tr>\n",
              "      <th>188</th>\n",
              "      <td>1</td>\n",
              "    </tr>\n",
              "    <tr>\n",
              "      <th>30</th>\n",
              "      <td>0</td>\n",
              "    </tr>\n",
              "    <tr>\n",
              "      <th>239</th>\n",
              "      <td>0</td>\n",
              "    </tr>\n",
              "  </tbody>\n",
              "</table>\n",
              "<p>184 rows × 1 columns</p>\n",
              "</div><br><label><b>dtype:</b> int64</label>"
            ]
          },
          "metadata": {},
          "execution_count": 41
        }
      ]
    },
    {
      "cell_type": "code",
      "source": [
        "clf_logistic.predict_proba(X_test)"
      ],
      "metadata": {
        "colab": {
          "base_uri": "https://localhost:8080/"
        },
        "id": "BY-2EQStsal5",
        "outputId": "144a6313-3288-4cb6-f740-38e2f22393a0"
      },
      "execution_count": 42,
      "outputs": [
        {
          "output_type": "execute_result",
          "data": {
            "text/plain": [
              "array([[0.95256304, 0.04743696],\n",
              "       [0.43631947, 0.56368053],\n",
              "       [0.1461506 , 0.8538494 ],\n",
              "       [0.93503938, 0.06496062],\n",
              "       [0.18129122, 0.81870878],\n",
              "       [0.84211951, 0.15788049],\n",
              "       [0.91361694, 0.08638306],\n",
              "       [0.23496652, 0.76503348],\n",
              "       [0.78446736, 0.21553264],\n",
              "       [0.88798536, 0.11201464],\n",
              "       [0.92673768, 0.07326232],\n",
              "       [0.89258512, 0.10741488],\n",
              "       [0.63300905, 0.36699095],\n",
              "       [0.83507832, 0.16492168],\n",
              "       [0.61042442, 0.38957558],\n",
              "       [0.28947596, 0.71052404],\n",
              "       [0.62052932, 0.37947068],\n",
              "       [0.87424036, 0.12575964],\n",
              "       [0.9719047 , 0.0280953 ],\n",
              "       [0.89681049, 0.10318951],\n",
              "       [0.42081428, 0.57918572],\n",
              "       [0.59098164, 0.40901836],\n",
              "       [0.98145589, 0.01854411],\n",
              "       [0.93160601, 0.06839399],\n",
              "       [0.29481564, 0.70518436],\n",
              "       [0.63381206, 0.36618794],\n",
              "       [0.97022978, 0.02977022],\n",
              "       [0.45400988, 0.54599012],\n",
              "       [0.53944083, 0.46055917],\n",
              "       [0.49927187, 0.50072813],\n",
              "       [0.51788896, 0.48211104],\n",
              "       [0.54892065, 0.45107935],\n",
              "       [0.82733015, 0.17266985],\n",
              "       [0.79286873, 0.20713127],\n",
              "       [0.77809769, 0.22190231],\n",
              "       [0.55555944, 0.44444056],\n",
              "       [0.63974141, 0.36025859],\n",
              "       [0.7696806 , 0.2303194 ],\n",
              "       [0.34880807, 0.65119193],\n",
              "       [0.90514862, 0.09485138],\n",
              "       [0.60210775, 0.39789225],\n",
              "       [0.7003677 , 0.2996323 ],\n",
              "       [0.72714145, 0.27285855],\n",
              "       [0.89988811, 0.10011189],\n",
              "       [0.74031509, 0.25968491],\n",
              "       [0.87604223, 0.12395777],\n",
              "       [0.88430672, 0.11569328],\n",
              "       [0.69776451, 0.30223549],\n",
              "       [0.5047746 , 0.4952254 ],\n",
              "       [0.67692047, 0.32307953],\n",
              "       [0.59739493, 0.40260507],\n",
              "       [0.76769033, 0.23230967],\n",
              "       [0.26237297, 0.73762703],\n",
              "       [0.72941582, 0.27058418],\n",
              "       [0.43133232, 0.56866768],\n",
              "       [0.17076885, 0.82923115],\n",
              "       [0.30149418, 0.69850582],\n",
              "       [0.88724342, 0.11275658],\n",
              "       [0.91641592, 0.08358408],\n",
              "       [0.63466789, 0.36533211],\n",
              "       [0.87550568, 0.12449432],\n",
              "       [0.98834866, 0.01165134],\n",
              "       [0.69664268, 0.30335732],\n",
              "       [0.83993864, 0.16006136],\n",
              "       [0.93147078, 0.06852922],\n",
              "       [0.43034576, 0.56965424],\n",
              "       [0.24659487, 0.75340513],\n",
              "       [0.67678519, 0.32321481],\n",
              "       [0.93012172, 0.06987828],\n",
              "       [0.85159917, 0.14840083],\n",
              "       [0.87798858, 0.12201142],\n",
              "       [0.87367085, 0.12632915],\n",
              "       [0.86803989, 0.13196011],\n",
              "       [0.3644553 , 0.6355447 ],\n",
              "       [0.94067106, 0.05932894],\n",
              "       [0.99727819, 0.00272181],\n",
              "       [0.96231464, 0.03768536],\n",
              "       [0.79698214, 0.20301786],\n",
              "       [0.95897212, 0.04102788],\n",
              "       [0.67783611, 0.32216389],\n",
              "       [0.65972228, 0.34027772],\n",
              "       [0.69501926, 0.30498074],\n",
              "       [0.90015509, 0.09984491],\n",
              "       [0.67269475, 0.32730525],\n",
              "       [0.8781634 , 0.1218366 ],\n",
              "       [0.70931173, 0.29068827],\n",
              "       [0.71944948, 0.28055052],\n",
              "       [0.65056307, 0.34943693],\n",
              "       [0.56910711, 0.43089289],\n",
              "       [0.71636113, 0.28363887],\n",
              "       [0.8628969 , 0.1371031 ],\n",
              "       [0.49964057, 0.50035943],\n",
              "       [0.21732057, 0.78267943],\n",
              "       [0.82433477, 0.17566523],\n",
              "       [0.52235605, 0.47764395],\n",
              "       [0.88684467, 0.11315533],\n",
              "       [0.9494525 , 0.0505475 ],\n",
              "       [0.3608644 , 0.6391356 ],\n",
              "       [0.65487256, 0.34512744],\n",
              "       [0.79950835, 0.20049165],\n",
              "       [0.84778429, 0.15221571],\n",
              "       [0.84069692, 0.15930308],\n",
              "       [0.63717351, 0.36282649],\n",
              "       [0.15859048, 0.84140952],\n",
              "       [0.76062225, 0.23937775],\n",
              "       [0.95926277, 0.04073723],\n",
              "       [0.94207763, 0.05792237],\n",
              "       [0.20168484, 0.79831516],\n",
              "       [0.2937974 , 0.7062026 ],\n",
              "       [0.23468682, 0.76531318],\n",
              "       [0.39605534, 0.60394466],\n",
              "       [0.55921373, 0.44078627],\n",
              "       [0.16564469, 0.83435531],\n",
              "       [0.69551576, 0.30448424],\n",
              "       [0.6254658 , 0.3745342 ],\n",
              "       [0.50788392, 0.49211608],\n",
              "       [0.41758124, 0.58241876],\n",
              "       [0.87592445, 0.12407555],\n",
              "       [0.8289211 , 0.1710789 ],\n",
              "       [0.76803063, 0.23196937],\n",
              "       [0.95817924, 0.04182076],\n",
              "       [0.62598001, 0.37401999],\n",
              "       [0.71147721, 0.28852279],\n",
              "       [0.95707434, 0.04292566],\n",
              "       [0.81496018, 0.18503982],\n",
              "       [0.88138851, 0.11861149],\n",
              "       [0.74846051, 0.25153949],\n",
              "       [0.84959243, 0.15040757],\n",
              "       [0.19643035, 0.80356965],\n",
              "       [0.31020037, 0.68979963],\n",
              "       [0.92808841, 0.07191159],\n",
              "       [0.94676297, 0.05323703],\n",
              "       [0.93104683, 0.06895317],\n",
              "       [0.1481751 , 0.8518249 ],\n",
              "       [0.64485301, 0.35514699],\n",
              "       [0.91330164, 0.08669836],\n",
              "       [0.90871073, 0.09128927],\n",
              "       [0.85069358, 0.14930642],\n",
              "       [0.16270013, 0.83729987],\n",
              "       [0.77991366, 0.22008634],\n",
              "       [0.9611365 , 0.0388635 ],\n",
              "       [0.92292466, 0.07707534],\n",
              "       [0.90784211, 0.09215789],\n",
              "       [0.79851138, 0.20148862],\n",
              "       [0.91968428, 0.08031572],\n",
              "       [0.77455762, 0.22544238],\n",
              "       [0.7410347 , 0.2589653 ],\n",
              "       [0.79771601, 0.20228399],\n",
              "       [0.94585229, 0.05414771],\n",
              "       [0.22855729, 0.77144271],\n",
              "       [0.41810329, 0.58189671],\n",
              "       [0.84382991, 0.15617009],\n",
              "       [0.90413939, 0.09586061],\n",
              "       [0.3885569 , 0.6114431 ],\n",
              "       [0.8726318 , 0.1273682 ],\n",
              "       [0.14210302, 0.85789698],\n",
              "       [0.5924571 , 0.4075429 ],\n",
              "       [0.34698487, 0.65301513],\n",
              "       [0.46669288, 0.53330712],\n",
              "       [0.93489992, 0.06510008],\n",
              "       [0.85509136, 0.14490864],\n",
              "       [0.06546314, 0.93453686],\n",
              "       [0.94005989, 0.05994011],\n",
              "       [0.97358444, 0.02641556],\n",
              "       [0.78622159, 0.21377841],\n",
              "       [0.68172761, 0.31827239],\n",
              "       [0.71502995, 0.28497005],\n",
              "       [0.84996391, 0.15003609],\n",
              "       [0.77560192, 0.22439808],\n",
              "       [0.80670046, 0.19329954],\n",
              "       [0.84541299, 0.15458701],\n",
              "       [0.8943564 , 0.1056436 ],\n",
              "       [0.88276843, 0.11723157],\n",
              "       [0.40483309, 0.59516691],\n",
              "       [0.67069927, 0.32930073],\n",
              "       [0.68026528, 0.31973472],\n",
              "       [0.18092736, 0.81907264],\n",
              "       [0.65792971, 0.34207029],\n",
              "       [0.82938614, 0.17061386],\n",
              "       [0.80845931, 0.19154069],\n",
              "       [0.16447774, 0.83552226],\n",
              "       [0.80920308, 0.19079692],\n",
              "       [0.59054161, 0.40945839],\n",
              "       [0.96208891, 0.03791109]])"
            ]
          },
          "metadata": {},
          "execution_count": 42
        }
      ]
    },
    {
      "cell_type": "markdown",
      "source": [
        "# **Model Summary**"
      ],
      "metadata": {
        "id": "ZTN0ugI9uQJ8"
      }
    },
    {
      "cell_type": "code",
      "source": [
        "target = \"Outcome\"\n",
        "X, y = df.drop(columns=[target, 'DiabetesPedigreeFunction']), df[target]\n",
        "scaler = preprocessing.StandardScaler()\n",
        "X_train, X_test, y_train, y_test = model_selection.train_test_split(X, y)\n",
        "scaler.fit(X_train)\n",
        "X_train = scaler.transform(X_train)\n",
        "X_test = scaler.transform(X_test)\n"
      ],
      "metadata": {
        "id": "7_7nx_QkvgVM"
      },
      "execution_count": 43,
      "outputs": []
    },
    {
      "cell_type": "code",
      "source": [
        "from sklearn import svm"
      ],
      "metadata": {
        "id": "X368mcCZ01aT"
      },
      "execution_count": 44,
      "outputs": []
    },
    {
      "cell_type": "code",
      "source": [
        "clf_list = [linear_model.LogisticRegression(),\n",
        "            tree.DecisionTreeClassifier(random_state=321),\n",
        "            ensemble.RandomForestClassifier(min_samples_leaf=20, random_state=123),\n",
        "            neighbors.KNeighborsClassifier(n_neighbors=10),\n",
        "            svm.SVC()\n",
        "            ]"
      ],
      "metadata": {
        "id": "gjeA2oKYub8r"
      },
      "execution_count": 45,
      "outputs": []
    },
    {
      "cell_type": "code",
      "source": [
        "for clf in clf_list:\n",
        "  clf.fit(X_train, y_train) # 5\n",
        "  print(clf, clf.score(X_train, y_train), clf.score(X_test, y_test))"
      ],
      "metadata": {
        "colab": {
          "base_uri": "https://localhost:8080/"
        },
        "id": "uP9KzTySu8Eb",
        "outputId": "1162bbf4-d194-4fbb-b76f-88e3aea3c8ff"
      },
      "execution_count": 46,
      "outputs": [
        {
          "output_type": "stream",
          "name": "stdout",
          "text": [
            "LogisticRegression() 0.7795992714025501 0.7554347826086957\n",
            "DecisionTreeClassifier(random_state=321) 1.0 0.6630434782608695\n",
            "RandomForestClassifier(min_samples_leaf=20, random_state=123) 0.785063752276867 0.7391304347826086\n",
            "KNeighborsClassifier(n_neighbors=10) 0.7959927140255009 0.7282608695652174\n",
            "SVC() 0.8142076502732241 0.7336956521739131\n"
          ]
        }
      ]
    },
    {
      "cell_type": "markdown",
      "source": [
        "# **SVM**\n"
      ],
      "metadata": {
        "id": "U5hVUOp11d9b"
      }
    },
    {
      "cell_type": "code",
      "source": [
        "clf_svm = svm.SVC(kernel='rbf', gamma=0.3 ) # C, gamma, degree, kernels\n",
        "clf_svm.fit(X_train, y_train) # 5\n",
        "print(clf_svm.score(X_train, y_train), clf_svm.score(X_test, y_test))"
      ],
      "metadata": {
        "colab": {
          "base_uri": "https://localhost:8080/"
        },
        "id": "USkiv5h0ua8O",
        "outputId": "80ce7848-1686-443e-aa5b-8f8f14f336fa"
      },
      "execution_count": 47,
      "outputs": [
        {
          "output_type": "stream",
          "name": "stdout",
          "text": [
            "0.8633879781420765 0.7228260869565217\n"
          ]
        }
      ]
    },
    {
      "cell_type": "code",
      "source": [
        "clf_svm = svm.SVC(kernel='linear') # C, gamma, degree, kernels\n",
        "clf_svm.fit(X_train, y_train) # 5\n",
        "print(clf_svm.score(X_train, y_train), clf_svm.score(X_test, y_test))"
      ],
      "metadata": {
        "colab": {
          "base_uri": "https://localhost:8080/"
        },
        "id": "iuuVsVoP5LNW",
        "outputId": "a690f25d-7b62-4849-f431-9587bf3bf1aa"
      },
      "execution_count": 48,
      "outputs": [
        {
          "output_type": "stream",
          "name": "stdout",
          "text": [
            "0.7723132969034608 0.7608695652173914\n"
          ]
        }
      ]
    },
    {
      "cell_type": "code",
      "source": [
        "clf_svm = svm.SVC(kernel='rbf', gamma=0.3, degree=200) # C, gamma, degree, kernels\n",
        "clf_svm.fit(X_train, y_train) # 5\n",
        "print(clf_svm.score(X_train, y_train), clf_svm.score(X_test, y_test))"
      ],
      "metadata": {
        "colab": {
          "base_uri": "https://localhost:8080/"
        },
        "id": "2S46i0te8InD",
        "outputId": "ca693c28-16f1-4243-9d06-20e1a652dcb7"
      },
      "execution_count": 49,
      "outputs": [
        {
          "output_type": "stream",
          "name": "stdout",
          "text": [
            "0.8633879781420765 0.7228260869565217\n"
          ]
        }
      ]
    },
    {
      "cell_type": "code",
      "source": [
        "clf_svm = svm.SVC(kernel='rbf', gamma=0.1) # C, gamma, degree, kernels\n",
        "clf_svm.fit(X_train, y_train) # 5\n",
        "print(clf_svm.score(X_train, y_train), clf_svm.score(X_test, y_test))"
      ],
      "metadata": {
        "colab": {
          "base_uri": "https://localhost:8080/"
        },
        "id": "mNN1fQWf8Nrs",
        "outputId": "b6b80129-dfcf-43be-8c11-7d904da9f4bb"
      },
      "execution_count": 50,
      "outputs": [
        {
          "output_type": "stream",
          "name": "stdout",
          "text": [
            "0.8032786885245902 0.7391304347826086\n"
          ]
        }
      ]
    },
    {
      "cell_type": "code",
      "source": [
        "clf_svm = svm.SVC(kernel='rbf', gamma=0.3, C=0.00001) # C, gamma, degree, kernels\n",
        "clf_svm.fit(X_train, y_train) # 5\n",
        "print(clf_svm.score(X_train, y_train), clf_svm.score(X_test, y_test))"
      ],
      "metadata": {
        "colab": {
          "base_uri": "https://localhost:8080/"
        },
        "id": "z7uMMsOU8W8A",
        "outputId": "9c5bf38d-6f0a-4fd4-c6e5-73275cee649a"
      },
      "execution_count": 51,
      "outputs": [
        {
          "output_type": "stream",
          "name": "stdout",
          "text": [
            "0.6520947176684881 0.6684782608695652\n"
          ]
        }
      ]
    },
    {
      "cell_type": "code",
      "source": [
        "clf_svm = svm.SVC(kernel='rbf', gamma=0.3, C=1000) # C, gamma, degree, kernels\n",
        "clf_svm.fit(X_train, y_train) # 5\n",
        "print(clf_svm.score(X_train, y_train), clf_svm.score(X_test, y_test))"
      ],
      "metadata": {
        "colab": {
          "base_uri": "https://localhost:8080/"
        },
        "id": "LdbnY7s980fL",
        "outputId": "75a24f31-f5b1-46c3-e04e-6a6c036453c0"
      },
      "execution_count": 52,
      "outputs": [
        {
          "output_type": "stream",
          "name": "stdout",
          "text": [
            "1.0 0.6739130434782609\n"
          ]
        }
      ]
    },
    {
      "cell_type": "code",
      "source": [
        "clf_svm = svm.SVC(kernel='linear', C=1000) # C, gamma, degree, kernels\n",
        "clf_svm.fit(X_train, y_train) # 5\n",
        "print(clf_svm.score(X_train, y_train), clf_svm.score(X_test, y_test))\n",
        "\n",
        "clf_svm = svm.SVC(kernel='linear', C=0.0000001) # C, gamma, degree, kernels\n",
        "clf_svm.fit(X_train, y_train) # 5\n",
        "print(clf_svm.score(X_train, y_train), clf_svm.score(X_test, y_test))"
      ],
      "metadata": {
        "colab": {
          "base_uri": "https://localhost:8080/"
        },
        "id": "Y7Ko1UoZ8-o8",
        "outputId": "54d111d3-7b65-422f-c4aa-22cb8fd7130c"
      },
      "execution_count": 53,
      "outputs": [
        {
          "output_type": "stream",
          "name": "stdout",
          "text": [
            "0.7723132969034608 0.7608695652173914\n",
            "0.6520947176684881 0.6684782608695652\n"
          ]
        }
      ]
    }
  ]
}
